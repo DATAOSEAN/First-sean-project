{
 "cells": [
  {
   "cell_type": "markdown",
   "metadata": {},
   "source": [
    "# 24.08.06 머신러닝 학습 20회차: A/B 테스팅"
   ]
  },
  {
   "cell_type": "markdown",
   "metadata": {},
   "source": [
    "## 01 개념"
   ]
  },
  {
   "cell_type": "markdown",
   "metadata": {},
   "source": [
    "### A/B 테스팅이란?\n",
    "\n",
    "1. 두 가지 버전(A와 B)을 비교하여 사용자 반응을 분석하는 실험 방법이다.\n",
    "\n",
    "2. 마케팅, 웹 디자인, 제품 개발 등 다양한 분야에서 활용된다.\n",
    "\n",
    "3. 두 버전 중 하나가 현재 사용 중인 버전(A)이고, 다른 하나는 테스트하고자 하는 새로운 버전(B)이다."
   ]
  },
  {
   "cell_type": "markdown",
   "metadata": {},
   "source": [
    "### A/B 테스팅의 중요성\n",
    "\n",
    "1. 객관적 데이터 확보: 주관적 의견이 아닌 실제 데이터를 기반으로 결정을 내릴 수 있다.\n",
    "\n",
    "2. 사용자 경험 개선: 사용자 반응을 분석하여 최적의 사용자 경험을 제공할 수 있다.\n",
    "\n",
    "3. 성과 향상: 클릭률, 전환율 등 주요 지표를 개선할 수 있다."
   ]
  },
  {
   "cell_type": "markdown",
   "metadata": {},
   "source": [
    "### A/B 테스팅의 과정\n",
    "\n",
    "1. 목표 설정\n",
    "\n",
    "    - A/B 테스트를 통해 무엇을 개선하고자 하는지 명확한 목표를 설정한다.\n",
    "    \n",
    "    - 예를 들어, 클릭률 증가, 전환율 개선, 사용자 만족도 향상 등이 목표가 될 수 있다.\n",
    "\n",
    "2. 가설 설정\n",
    "\n",
    "    - 테스트할 변경사항에 대해 가설을 세운다.\n",
    "    \n",
    "    - 예를 들어, \"버튼 색상을 빨간색으로 바꾸면 클릭률이 증가할 것이다\"라는 가설을 세울 수 있다.\n",
    "\n",
    "3. 실험 디자인\n",
    "\n",
    "    - 샘플 크기 결정: 통계적으로 유의미한 결과를 얻기 위해 필요한 샘플 크기를 결정한다.\n",
    "\n",
    "    - 무작위 할당: 사용자들을 무작위로 두 그룹(A와 B)으로 나누어야 한다.\n",
    "\n",
    "    - 변수 통제: 다른 변수들의 영향을 최소화하여 공정한 비교가 이루어지도록 한다.\n",
    "\n",
    "4. 데이터 수집\n",
    "\n",
    "    - 실험을 진행하며, 각 버전에 대한 데이터를 수집한다.\n",
    "    \n",
    "    - 웹 분석 도구나 데이터베이스를 통해 이루어질 수 있다.\n",
    "\n",
    "5. 데이터 분석\n",
    "\n",
    "    - 수집된 데이터를 분석하여 두 버전의 성과를 비교한다.\n",
    "    \n",
    "    - 통계적 유의성을 평가하기 위해 t-검정, 카이제곱 검정 등의 통계 기법을 사용한다.\n",
    "\n",
    "6. 결과 해석 및 결론 도출\n",
    "\n",
    "    - 통계적 유의성: 결과가 통계적으로 유의미한지 판단한다.\n",
    "\n",
    "    - 성과 비교: 두 버전 중 어느 것이 더 나은 성과를 내는지 결론을 도출한다."
   ]
  },
  {
   "cell_type": "markdown",
   "metadata": {},
   "source": [
    "### A/B 테스팅의 통계적 기법\n",
    "\n",
    "1. t-검정: 두 그룹의 평균을 비교하여 차이가 유의미한지 판단한다.\n",
    "\n",
    "2. 카이제곱 검정: `범주형 데이터`의 비율을 비교할 때 사용된다.\n",
    "\n",
    "3. 신뢰 구간: 결과의 신뢰도를 평가하기 위해 사용된다."
   ]
  },
  {
   "cell_type": "markdown",
   "metadata": {},
   "source": [
    "### A/B 테스팅의 실무 적용법\n",
    "\n",
    "1. 웹사이트 디자인: 버튼 색상, 레이아웃, 텍스트 등 웹사이트의 다양한 요소를 변경하여 사용자 반응을 분석한다.\n",
    "\n",
    "2. 이메일 마케팅: 제목, 내용, 발송 시간 등 이메일 캠페인의 요소를 테스트하여 더 나은 반응을 얻는다.\n",
    "\n",
    "3. 광고 캠페인: 광고 카피, 이미지, 타겟팅 등을 변경하여 클릭률과 전환율을 최적화한다."
   ]
  },
  {
   "cell_type": "markdown",
   "metadata": {},
   "source": [
    "### A/B 테스팅의 유의점\n",
    "\n",
    "1. 샘플 크기 부족: 충분한 샘플 크기를 확보하지 못하면 결과의 신뢰도가 낮아질 수 있다.\n",
    "\n",
    "2. 외부 변수 통제: 외부 변수의 영향을 최소화하기 위해 신중한 실험 설계가 필요하다.\n",
    "\n",
    "3. 다중 테스트 문제: 동시에 여러 테스트를 진행할 경우, 결과 해석이 어려울 수 있다."
   ]
  },
  {
   "cell_type": "markdown",
   "metadata": {},
   "source": [
    "### A/B 테스팅의 도구\n",
    "\n",
    "1. Google Optimize: 구글이 제공하는 A/B 테스트 도구로, 웹사이트의 다양한 요소를 테스트할 수 있다.\n",
    "\n",
    "2. Optimizely: 사용자 경험을 최적화하기 위한 A/B 테스트 플랫폼이다.\n",
    "\n",
    "3. Adobe Target: 개인화된 콘텐츠와 경험을 제공하기 위한 테스트 도구이다."
   ]
  },
  {
   "cell_type": "markdown",
   "metadata": {},
   "source": [
    "### 예제 코드(1)"
   ]
  },
  {
   "cell_type": "code",
   "execution_count": 47,
   "metadata": {},
   "outputs": [
    {
     "name": "stdout",
     "output_type": "stream",
     "text": [
      "Conversion Rate A: 0.6\n",
      "Conversion Rate B: 0.7\n"
     ]
    }
   ],
   "source": [
    "# 라이브러리 불러오기\n",
    "import pandas as pd\n",
    "from scipy import stats\n",
    "\n",
    "# 예제 데이터 생성\n",
    "data = {'version': ['A']*50 + ['B']*50,\n",
    "        'conversion': [1, 0, 1, 1, 0, 0, 1, 1, 0, 1]*5 + [1, 1, 1, 1, 0, 0, 1, 1, 0, 1]*5}\n",
    "df = pd.DataFrame(data)\n",
    "\n",
    "# 버전별 전환율 계산\n",
    "conversion_rate_A = df[df['version'] == 'A']['conversion'].mean()\n",
    "conversion_rate_B = df[df['version'] == 'B']['conversion'].mean()\n",
    "\n",
    "print(f\"Conversion Rate A: {conversion_rate_A}\")\n",
    "print(f\"Conversion Rate B: {conversion_rate_B}\")"
   ]
  },
  {
   "cell_type": "code",
   "execution_count": 45,
   "metadata": {},
   "outputs": [
    {
     "name": "stdout",
     "output_type": "stream",
     "text": [
      "T-Statistic: -1.0434983894999015, P-Value: 0.2992847935931316\n"
     ]
    }
   ],
   "source": [
    "# t-검정 수행\n",
    "t_stat, p_val = stats.ttest_ind(df[df['version'] == 'A']['conversion'],\n",
    "                                df[df['version'] == 'B']['conversion'])\n",
    "\n",
    "print(f\"T-Statistic: {t_stat}, P-Value: {p_val}\")"
   ]
  },
  {
   "cell_type": "markdown",
   "metadata": {},
   "source": [
    "### A/B 테스팅의 실전 tip\n",
    "\n",
    "1. 샘플 크기 결정\n",
    "\n",
    "    - A/B 테스팅의 성공을 위해서는 충분한 샘플 크기를 확보하는 것이 중요하다.\n",
    "      \n",
    "    - 샘플 크기가 작으면 결과가 통계적으로 유의미하지 않을 수 있다.\n",
    "    \n",
    "    - 이를 위해 사전 샘플 크기 계산을 할 수 있는 온라인 도구나 통계 패키지를 사용하는 것이 좋다.\n",
    "\n",
    "2. 실험 기간 설정\n",
    "\n",
    "    - 너무 짧은 기간 동안 실험을 진행하면 충분한 데이터를 얻지 못할 수 있다.\n",
    "    \n",
    "    - 너무 긴 기간 동안 진행하면 외부 요인의 영향을 받을 수 있다.\n",
    "    \n",
    "    - 일반적으로 2주에서 4주 사이의 기간이 권장된다."
   ]
  },
  {
   "cell_type": "markdown",
   "metadata": {},
   "source": [
    "### A/B 테스팅의 고급 기법\n",
    "\n",
    "1. 멀티버리어 테스트(Multivariate Testing)\n",
    "\n",
    "    - 멀티버리어 테스트는 여러 요소를 동시에 테스트하는 방법이다.\n",
    "    \n",
    "    - 예를 들어, 웹사이트의 헤더, 버튼 색상, 텍스트 등을 동시에 변경하여 각 요소의 조합이 사용자 행동에 어떤 영향을 미치는지 분석한다.\n",
    "    \n",
    "    - 이는 A/B 테스팅보다 복잡하지만 더 많은 인사이트를 제공할 수 있다.\n",
    "\n",
    "2. 밴디트 알고리즘(Multi-armed Bandit Algorithms)\n",
    "\n",
    "    - 밴디트 알고리즘은 A/B 테스팅의 단점을 보완하는 기법이다.\n",
    "    \n",
    "    - 이 알고리즘은 실험이 진행되는 동안 실시간으로 데이터를 분석하여 더 나은 버전에 더 많은 트래픽을 할당한다.\n",
    "    \n",
    "    - 이를 통해 더 빠르게 최적의 결과를 도출할 수 있습니다."
   ]
  },
  {
   "cell_type": "markdown",
   "metadata": {},
   "source": [
    "### A/B 테스팅의 윤리적 고려사항\n",
    "\n",
    "1. 사용자 프라이버시: A/B 테스트를 진행할 때는 사용자 프라이버시를 보호하는 것이 중요하다.\n",
    "\n",
    "    - 개인 식별 정보를 수집하지 않도록 주의해야 하며, 데이터 수집 및 사용에 대해 투명하게 고지해야 한다.\n",
    "\n",
    "2. 공정성: A/B 테스트는 공정하게 진행되어야 한다.\n",
    "\n",
    "    - 특정 그룹에 불리한 조건을 부여하지 않도록 주의해야 하며, 테스트 결과를 왜곡하지 않고 객관적으로 분석해야 한다."
   ]
  },
  {
   "cell_type": "markdown",
   "metadata": {},
   "source": [
    "### 예제 코드(2): 온라인 마케팅 캠페인\n",
    "\n",
    "1. 온라인 마케팅 캠페인에서 A/B 테스트를 활용하여 이메일 제목의 효과를 테스트하는 예제이다.\n",
    "\n",
    "2. 두 가지 이메일 제목(A와 B)의 열림률을 비교한다.\n",
    "\n",
    "3. t-검정을 통해 두 제목 간의 차이가 통계적으로 유의미한지 판단한다."
   ]
  },
  {
   "cell_type": "code",
   "execution_count": 25,
   "metadata": {},
   "outputs": [
    {
     "name": "stdout",
     "output_type": "stream",
     "text": [
      "    email_subject  open_rate\n",
      "0               A          1\n",
      "1               A          1\n",
      "2               A          1\n",
      "3               A          1\n",
      "4               A          1\n",
      "..            ...        ...\n",
      "195             B          0\n",
      "196             B          0\n",
      "197             B          0\n",
      "198             B          0\n",
      "199             B          0\n",
      "\n",
      "[200 rows x 2 columns]\n"
     ]
    }
   ],
   "source": [
    "# 환경설정\n",
    "import pandas as pd\n",
    "from scipy import stats\n",
    "\n",
    "# 예제 데이터 생성\n",
    "data = {'email_subject': ['A']*100 + ['B']*100,\n",
    "        'open_rate': [1 if i < 60 else 0 for i in range(100)] + [1 if i < 70 else 0 for i in range(100)]}\n",
    "df = pd.DataFrame(data)\n",
    "\n",
    "print(df)"
   ]
  },
  {
   "cell_type": "code",
   "execution_count": 26,
   "metadata": {},
   "outputs": [
    {
     "data": {
      "text/plain": [
       "email_subject    2\n",
       "open_rate        2\n",
       "dtype: int64"
      ]
     },
     "execution_count": 26,
     "metadata": {},
     "output_type": "execute_result"
    }
   ],
   "source": [
    "df.nunique()"
   ]
  },
  {
   "cell_type": "code",
   "execution_count": 27,
   "metadata": {},
   "outputs": [
    {
     "data": {
      "text/plain": [
       "email_subject  open_rate\n",
       "B              1            70\n",
       "A              1            60\n",
       "               0            40\n",
       "B              0            30\n",
       "Name: count, dtype: int64"
      ]
     },
     "execution_count": 27,
     "metadata": {},
     "output_type": "execute_result"
    }
   ],
   "source": [
    "df.value_counts()"
   ]
  },
  {
   "cell_type": "code",
   "execution_count": 28,
   "metadata": {},
   "outputs": [
    {
     "name": "stdout",
     "output_type": "stream",
     "text": [
      "Open Rate A: 0.6\n",
      "Open Rate B: 0.7\n"
     ]
    }
   ],
   "source": [
    "# 그룹별 열림률 계산\n",
    "open_rate_A = df[df['email_subject'] == 'A']['open_rate'].mean()\n",
    "open_rate_B = df[df['email_subject'] == 'B']['open_rate'].mean()\n",
    "\n",
    "print(f\"Open Rate A: {open_rate_A}\")\n",
    "print(f\"Open Rate B: {open_rate_B}\")"
   ]
  },
  {
   "cell_type": "code",
   "execution_count": 29,
   "metadata": {},
   "outputs": [
    {
     "name": "stdout",
     "output_type": "stream",
     "text": [
      "T-Statistic: -1.4832396974191322, P-Value: 0.13960073022955727\n"
     ]
    }
   ],
   "source": [
    "# t-검정 수행\n",
    "t_stat, p_val = stats.ttest_ind(df[df['email_subject'] == 'A']['open_rate'],\n",
    "                                df[df['email_subject'] == 'B']['open_rate'])\n",
    "\n",
    "print(f\"T-Statistic: {t_stat}, P-Value: {p_val}\")"
   ]
  },
  {
   "cell_type": "markdown",
   "metadata": {},
   "source": [
    "### 예제 코드(3)\n",
    "\n",
    "와인의 알코올 함량을 기준으로 두 그룹으로 나누어 각 그룹의 평균 색조 (color intensity)를 비교하는 A/B 테스트를 수행한다."
   ]
  },
  {
   "cell_type": "code",
   "execution_count": 9,
   "metadata": {},
   "outputs": [
    {
     "name": "stdout",
     "output_type": "stream",
     "text": [
      "     alcohol  malic_acid   ash  alcalinity_of_ash  magnesium  total_phenols  \\\n",
      "0      14.23        1.71  2.43               15.6      127.0           2.80   \n",
      "1      13.20        1.78  2.14               11.2      100.0           2.65   \n",
      "2      13.16        2.36  2.67               18.6      101.0           2.80   \n",
      "3      14.37        1.95  2.50               16.8      113.0           3.85   \n",
      "4      13.24        2.59  2.87               21.0      118.0           2.80   \n",
      "..       ...         ...   ...                ...        ...            ...   \n",
      "173    13.71        5.65  2.45               20.5       95.0           1.68   \n",
      "174    13.40        3.91  2.48               23.0      102.0           1.80   \n",
      "175    13.27        4.28  2.26               20.0      120.0           1.59   \n",
      "176    13.17        2.59  2.37               20.0      120.0           1.65   \n",
      "177    14.13        4.10  2.74               24.5       96.0           2.05   \n",
      "\n",
      "     flavanoids  nonflavanoid_phenols  proanthocyanins  color_intensity   hue  \\\n",
      "0          3.06                  0.28             2.29             5.64  1.04   \n",
      "1          2.76                  0.26             1.28             4.38  1.05   \n",
      "2          3.24                  0.30             2.81             5.68  1.03   \n",
      "3          3.49                  0.24             2.18             7.80  0.86   \n",
      "4          2.69                  0.39             1.82             4.32  1.04   \n",
      "..          ...                   ...              ...              ...   ...   \n",
      "173        0.61                  0.52             1.06             7.70  0.64   \n",
      "174        0.75                  0.43             1.41             7.30  0.70   \n",
      "175        0.69                  0.43             1.35            10.20  0.59   \n",
      "176        0.68                  0.53             1.46             9.30  0.60   \n",
      "177        0.76                  0.56             1.35             9.20  0.61   \n",
      "\n",
      "     od280/od315_of_diluted_wines  proline  target  \n",
      "0                            3.92   1065.0       0  \n",
      "1                            3.40   1050.0       0  \n",
      "2                            3.17   1185.0       0  \n",
      "3                            3.45   1480.0       0  \n",
      "4                            2.93    735.0       0  \n",
      "..                            ...      ...     ...  \n",
      "173                          1.74    740.0       2  \n",
      "174                          1.56    750.0       2  \n",
      "175                          1.56    835.0       2  \n",
      "176                          1.62    840.0       2  \n",
      "177                          1.60    560.0       2  \n",
      "\n",
      "[178 rows x 14 columns]\n"
     ]
    }
   ],
   "source": [
    "# 환경 설정\n",
    "import numpy as np\n",
    "import pandas as pd\n",
    "from sklearn.datasets import load_wine\n",
    "from scipy import stats\n",
    "import matplotlib.pyplot as plt\n",
    "import seaborn as sns\n",
    "\n",
    "# 데이터 불러오기\n",
    "data = load_wine()\n",
    "df = pd.DataFrame(data.data, columns=data.feature_names)\n",
    "df['target'] = data.target\n",
    "\n",
    "print(df)"
   ]
  },
  {
   "cell_type": "code",
   "execution_count": 11,
   "metadata": {},
   "outputs": [
    {
     "name": "stdout",
     "output_type": "stream",
     "text": [
      "13.05\n"
     ]
    }
   ],
   "source": [
    "# 알코올 함량 중앙값 기준으로 두 그룹으로 나누기\n",
    "median_alcohol = df['alcohol'].median()\n",
    "group_A = df[df['alcohol'] <= median_alcohol]\n",
    "group_B = df[df['alcohol'] > median_alcohol]\n",
    "\n",
    "print(median_alcohol)"
   ]
  },
  {
   "cell_type": "code",
   "execution_count": 20,
   "metadata": {},
   "outputs": [
    {
     "name": "stdout",
     "output_type": "stream",
     "text": [
      "Group A Mean Color Intensity: 3.9280645053763434\n",
      "Group B Mean Color Intensity: 6.294470588235294\n"
     ]
    }
   ],
   "source": [
    "# 각 그룹의 평균 색조 계산\n",
    "mean_color_A = group_A['color_intensity'].mean()\n",
    "mean_color_B = group_B['color_intensity'].mean()\n",
    "\n",
    "print(f\"Group A Mean Color Intensity: {mean_color_A}\")\n",
    "print(f\"Group B Mean Color Intensity: {mean_color_B}\")"
   ]
  },
  {
   "cell_type": "code",
   "execution_count": 21,
   "metadata": {},
   "outputs": [
    {
     "name": "stdout",
     "output_type": "stream",
     "text": [
      "T-Statistic: -7.8929016582878875, P-Value: 3.0323891411172134e-13\n"
     ]
    }
   ],
   "source": [
    "# t-검정 수행\n",
    "t_stat, p_val = stats.ttest_ind(group_A['color_intensity'], group_B['color_intensity'])\n",
    "\n",
    "print(f\"T-Statistic: {t_stat}, P-Value: {p_val}\")"
   ]
  },
  {
   "cell_type": "markdown",
   "metadata": {},
   "source": [
    "1. df.assign() : 기존 DataFrame에 새로운 열을 추가한다.\n",
    "\n",
    "2. np.where() : 조건에 따라 값을 할당한다. 여기서는 df['alcohol'] 값이 median_alcohol보다 크면 'High', 작거나 같으면 'Low'를 할당한다.\n",
    "\n",
    "3. alcohol_group : 새롭게 생성된 컬럼의 이름이다. x 독립변수 값으로 사용됐다."
   ]
  },
  {
   "cell_type": "code",
   "execution_count": 23,
   "metadata": {},
   "outputs": [
    {
     "data": {
      "image/png": "[encoded data removed]",
      "text/plain": [
       "<Figure size 1000x600 with 1 Axes>"
      ]
     },
     "metadata": {},
     "output_type": "display_data"
    }
   ],
   "source": [
    "# 결과 시각화\n",
    "plt.figure(figsize=(10, 6))\n",
    "sns.boxplot(x='alcohol_group', y='color_intensity', data=df.assign(alcohol_group=np.where(df['alcohol'] > median_alcohol, 'High', 'Low')))\n",
    "plt.title('Color Intensity by Alcohol Group')\n",
    "plt.xlabel('Alcohol Group')\n",
    "plt.ylabel('Color Intensity')\n",
    "plt.show()"
   ]
  },
  {
   "cell_type": "markdown",
   "metadata": {},
   "source": [
    "1. x='alcohol_group' : x축은 알코올 그룹('High' 또는 'Low')이다.\n",
    "\n",
    "2. y='color_intensity' : y축은 색 강도이다."
   ]
  },
  {
   "cell_type": "markdown",
   "metadata": {},
   "source": [
    "### 예제 코드(4)"
   ]
  },
  {
   "cell_type": "markdown",
   "metadata": {},
   "source": [
    "#### Step 1: 라이브러리 로드 및 데이터 생성"
   ]
  },
  {
   "cell_type": "code",
   "execution_count": 31,
   "metadata": {},
   "outputs": [
    {
     "name": "stdout",
     "output_type": "stream",
     "text": [
      "  Group  Conversion\n",
      "0     A           0\n",
      "1     A           1\n",
      "2     A           0\n",
      "3     A           0\n",
      "4     A           0\n",
      "Group\n",
      "A    1000\n",
      "B    1000\n",
      "Name: count, dtype: int64\n",
      "Group\n",
      "A    0.100\n",
      "B    0.112\n",
      "Name: Conversion, dtype: float64\n"
     ]
    }
   ],
   "source": [
    "# 필요한 라이브러리 불러오기\n",
    "import numpy as np\n",
    "import pandas as pd\n",
    "from scipy import stats\n",
    "import matplotlib.pyplot as plt\n",
    "\n",
    "# 랜덤 시드 설정\n",
    "np.random.seed(42)\n",
    "\n",
    "# 가상의 데이터 생성\n",
    "n = 1000  # 각 그룹의 샘플 수\n",
    "conversion_rate_A = 0.1  # 그룹 A의 전환율\n",
    "conversion_rate_B = 0.12  # 그룹 B의 전환율\n",
    "\n",
    "# 그룹 A와 B의 데이터 생성\n",
    "data_A = np.random.binomial(1, conversion_rate_A, n)\n",
    "data_B = np.random.binomial(1, conversion_rate_B, n)\n",
    "\n",
    "# 데이터프레임 생성\n",
    "df = pd.DataFrame({\n",
    "    'Group': ['A'] * n + ['B'] * n,\n",
    "    'Conversion': np.concatenate([data_A, data_B])\n",
    "})\n",
    "\n",
    "# 데이터 요약\n",
    "print(df.head())\n",
    "print(df['Group'].value_counts())\n",
    "print(df.groupby('Group')['Conversion'].mean())"
   ]
  },
  {
   "cell_type": "markdown",
   "metadata": {},
   "source": [
    "#### Step 2: 데이터 시각화\n",
    "\n",
    "전환율의 분포를 시각화한다."
   ]
  },
  {
   "cell_type": "code",
   "execution_count": 37,
   "metadata": {},
   "outputs": [
    {
     "name": "stdout",
     "output_type": "stream",
     "text": [
      "  Group  Conversion\n",
      "0     A       0.100\n",
      "1     B       0.112\n"
     ]
    }
   ],
   "source": [
    "import seaborn as sns\n",
    "\n",
    "# 그룹별 전환율 계산: 인덱스 리셋\n",
    "conversion_rates = df.groupby('Group')['Conversion'].mean().reset_index()\n",
    "\n",
    "print(conversion_rates)"
   ]
  },
  {
   "cell_type": "code",
   "execution_count": 38,
   "metadata": {},
   "outputs": [
    {
     "data": {
      "image/png": "[encoded data removed]",
      "text/plain": [
       "<Figure size 800x600 with 1 Axes>"
      ]
     },
     "metadata": {},
     "output_type": "display_data"
    }
   ],
   "source": [
    "# 그룹별 전환율 시각화\n",
    "plt.figure(figsize=(8, 6))\n",
    "sns.barplot(x='Group', y='Conversion', data=conversion_rates)\n",
    "plt.title('Conversion Rates by Group')\n",
    "plt.show()"
   ]
  },
  {
   "cell_type": "markdown",
   "metadata": {},
   "source": [
    "#### Step 3: 통계적 검정\n",
    "\n",
    "1. A/B 테스트의 핵심은 통계적 유의성을 검정하는 것이다.\n",
    "\n",
    "2. 여기서는 두 비율의 차이를 검정하기 위해 Z-검정을 사용한다."
   ]
  },
  {
   "cell_type": "code",
   "execution_count": 39,
   "metadata": {},
   "outputs": [
    {
     "name": "stdout",
     "output_type": "stream",
     "text": [
      "Z-statistic: -0.8716548604640172\n",
      "p-value: 0.3833966925145822\n"
     ]
    }
   ],
   "source": [
    "from statsmodels.stats.proportion import proportions_ztest\n",
    "\n",
    "# 그룹 A와 B의 전환 수\n",
    "conversions_A = np.sum(data_A)\n",
    "conversions_B = np.sum(data_B)\n",
    "\n",
    "# 샘플 수\n",
    "n_A = len(data_A)\n",
    "n_B = len(data_B)\n",
    "\n",
    "# Z-검정 수행\n",
    "stat, p_value = proportions_ztest([conversions_A, conversions_B], [n_A, n_B])\n",
    "\n",
    "print(f'Z-statistic: {stat}')\n",
    "print(f'p-value: {p_value}')"
   ]
  },
  {
   "cell_type": "markdown",
   "metadata": {},
   "source": [
    "#### Step 4: 결과 해석\n",
    "\n",
    "p-value를 기반으로 결과를 해석한다."
   ]
  },
  {
   "cell_type": "code",
   "execution_count": 42,
   "metadata": {},
   "outputs": [
    {
     "name": "stdout",
     "output_type": "stream",
     "text": [
      "결론: 유의 수준 0.05에서 두 그룹 간의 전환율 차이는 통계적으로 유의하지 않다.\n"
     ]
    }
   ],
   "source": [
    "alpha = 0.05  # 유의 수준\n",
    "\n",
    "if p_value < alpha:\n",
    "    print(\"결론: 유의 수준 0.05에서 두 그룹 간의 전환율 차이는 통계적으로 유의하다.\")\n",
    "else:\n",
    "    print(\"결론: 유의 수준 0.05에서 두 그룹 간의 전환율 차이는 통계적으로 유의하지 않다.\")"
   ]
  },
  {
   "cell_type": "markdown",
   "metadata": {},
   "source": [
    "#### 통계적으로 유의하지 않다는 결론이 나온다는 것의 의미는?\n",
    "\n",
    "1. 두 그룹 간의 차이가 실제로 존재한다고 결론을 내릴 만큼 충분한 증거가 없다는 의미이다.\n",
    "\n",
    "2. 즉, 우리가 관찰한 차이가 `단순히 우연이나 표본의 변동성에 의한 것`일 `가능성이 높다`는 것을 나타낸다.\n",
    "\n",
    "3. 귀무가설(두 그룹 간의 차이가 없다)을 기각할 충분한 증거가 없다는 것을 의미한다."
   ]
  },
  {
   "cell_type": "markdown",
   "metadata": {},
   "source": [
    "#### Z-검정과 t-검정\n",
    "\n",
    "1. t-검정과 z-검정은 둘 다 평균 차이를 검정하는 데 사용되지만, 표본 크기와 모집단 표준편차의 정보를 기반으로 어떤 검정을 사용할지 결정한다.\n",
    "\n",
    "2. t-검정은 표본 크기가 작고 모집단 표준편차를 모를 때 사용하며, z-검정은 표본 크기가 크고 모집단 표준편차를 알 때 사용된다."
   ]
  }
 ],
 "metadata": {
  "kernelspec": {
   "display_name": "Python 3",
   "language": "python",
   "name": "python3"
  },
  "language_info": {
   "codemirror_mode": {
    "name": "ipython",
    "version": 3
   },
   "file_extension": ".py",
   "mimetype": "text/x-python",
   "name": "python",
   "nbconvert_exporter": "python",
   "pygments_lexer": "ipython3",
   "version": "3.11.2"
  }
 },
 "nbformat": 4,
 "nbformat_minor": 2
}
