{
 "cells": [
  {
   "cell_type": "markdown",
   "metadata": {},
   "source": [
    "### [1] 알고리즘 복습"
   ]
  },
  {
   "cell_type": "code",
   "execution_count": null,
   "metadata": {},
   "outputs": [],
   "source": [
    "# 함수에서 중요한 건 (들어오는)전달인자/기능/리턴값 3 가지다.\n",
    "# 1. 배열/큐/stack은 list로 유사하게 만들 수 있다.\n",
    "# LIFO구조를 만들 것임 : 나중에 들어온 게 먼저 나간다.\n",
    "# stack에 쌓는다 = push기능(list의 append), 또 pop기능(list의 pop)이 있다.\n",
    "\n",
    "my_st = []\n",
    "my_st.append('(')\n",
    "my_st\n",
    "\n",
    "# 만약 닫힌 괄호가 온다면,\n",
    "# 현재 st에 들어있는 최사단 자료와 비교하여 쌍이 되면 pop(삭제)\n",
    "\n",
    "my_st.pop()"
   ]
  },
  {
   "cell_type": "code",
   "execution_count": null,
   "metadata": {},
   "outputs": [],
   "source": [
    "# python list를 가지고 stack을 유사하게 만든다.\n",
    "stack = []\n",
    "\n",
    "# 모든 s자료를 반복해서 체크한다. 예시는 추후 삭제.\n",
    "s = \"()\"\n",
    "for c in s:\n",
    "    #print(c)\n",
    "    # 만약 들어오는 s(문자열)이 열린괄호면 넣어라.\n",
    "    if c == '(':\n",
    "        stack.append(c)\n",
    "    # 만약 닫힌 괄호면 문자열이 있을 때 = True\n",
    "    else:\n",
    "        if stack:\n",
    "            # 동귀어진 해라.\n",
    "            stack.pop()\n",
    "        # 스택이 비어있다면 잘못된 값이다.\n",
    "        else:\n",
    "            return False\n",
    "# 이렇게 골리고도 stack이 차있다면? -> 잘못된 괄호\n",
    "if stack:\n",
    "    return False\n",
    "else:\n",
    "    return True        \n",
    "# 이렇게 돌리고도 stack이 비어있다면 -> 옳은 괄호\n",
    "\n",
    "# answer=Ture 라는 변수값은 필요 없지 않나?"
   ]
  },
  {
   "cell_type": "code",
   "execution_count": 161,
   "metadata": {},
   "outputs": [
    {
     "name": "stdout",
     "output_type": "stream",
     "text": [
      "사과는 과잉입니다.\n",
      "오렌지는 부족입니다.\n",
      "바나나는 과잉입니다.\n"
     ]
    }
   ],
   "source": [
    "inventory_data = [['사과', 30],['오렌지', 20], ['바나나', 50]]\n",
    "standard = 20\n",
    "\n",
    "def check_inventory(a, b):\n",
    "    for x in a:\n",
    "        if int(x[1]) > int(b):\n",
    "            print(f'{x[0]}는 과잉입니다.')\n",
    "        else:\n",
    "            print(f'{x[0]}는 부족입니다.')\n",
    "\n",
    "# 기준치가 초과, 미만인 제품을 식별하는 프로그램 작성하기.\n",
    "result = check_inventory(inventory_data, standard)"
   ]
  },
  {
   "cell_type": "code",
   "execution_count": 145,
   "metadata": {},
   "outputs": [
    {
     "name": "stdout",
     "output_type": "stream",
     "text": [
      "['사과가 과잉입니다.', '오렌지가 부족입니다.', '바나나가 과잉입니다.']\n"
     ]
    }
   ],
   "source": [
    "# 기준치가 초과, 미만인 제품을 식별하는 프로그램 작성하기.\n",
    "inventory_data = [['사과', 30],['오렌지', 20], ['바나나', 50]]\n",
    "standard = 20\n",
    "\n",
    "# 여기는 리스트 형으로 나오는 게 맞는 지?가 문제다.\n",
    "def check_inventory(x, y):\n",
    "    result = []\n",
    "    for a in x:\n",
    "        if int(a[1]) > int(y):\n",
    "            result.append(f'{a[0]}가 과잉입니다.')\n",
    "        else:\n",
    "            result.append(f'{a[0]}가 부족입니다.')\n",
    "    return result\n",
    "\n",
    "result = check_inventory(inventory_data, standard)\n",
    "\n",
    "print(result)"
   ]
  },
  {
   "cell_type": "code",
   "execution_count": null,
   "metadata": {},
   "outputs": [],
   "source": [
    "# 하나의 질문 어쩌고 이거 뭔말인지 복습하기\n",
    "for a in b: 에서 b는 숫자만 받을 수 있대. 그래서 len>range쓰는데 그럼 숫자만 가져와서 뭘해?\n",
    "\n",
    "# .도 문자라서 결국 @이 없는 3번만 틀린 답이래\n",
    "# in 작동박식 .을 하나씩 확인해서 True, False 앞에서부터 체크해서 도출한다. 하나라도 T가 있으면 만족.\n",
    "continue는 T도 F로 보고 반복문 계속, pass는? break는 반복문 깨고 나옴.\n",
    "# sql은 비절차적 언어라 작동순서가 있지만 python은 앞에서 위에서 하나씩 순서대로.\n",
    "# if문에 and, or을 쓰면 한 줄로 줄어들지만 가독성이 떨어져요. and, or, !도 순서가 있음.\n",
    "# 알고리즘 배울 때 try except, 모듈 쓰면 기본구조 쓰라고 화내신다(ㅋㅋ)\n",
    "\n",
    "# 동명이인 찾기에 고생했을 듯.\n",
    "# 반복문과 조건문을 잘 쓰는지.\n",
    "# 아니 나도 집합 생각했는데...? 안되죠? 동명이인이라서? 네... set 사용 방지당함.\n",
    "# 해시형 자료형인 딕셔너리를 이용하는 걸 노렸음.\n",
    "# 이름마다 숫자를 카운트해서 완주자 들어올 때마다 -1씩 하면!?!? 이거도 숫자를 붙일까는 했었는데 합은 생각 못함.\n",
    "# 등호는 오른쪽 먼저 실행된다.\n",
    "# from collection impor Conter 모듈? 카운터 자료형에 접근하는 방법도 있다.\n",
    "\n",
    "## remove가 알기로 특정 값을 적어줘야 제거되기 때문에. remove도 지우는 값의 순서가 있다. 리스트 앞부터.\n",
    "## remove로 리스트에서 전체 중복값을 지우는 함수도 있나요? list(set())으로 묶어주시면 됩니다.\n",
    "## remove는 일치하는 것 제일 먼저 나오는것 하나만 해주는 것으로 알고 있어요.\n",
    "## 저도 승현님처럼 반복문이랑 remove 사용해서 한개씩 지우는 방식으로 사용했는데 그렇게 하면 중복값은 남아서 괜찮지 않을지 여쭙습니다! 된대\n",
    "\n",
    "# 자료형을 잘 선택하면 코드 작성이 쉽다는 것이다. 리스트는 고생할 것이다. (딕셔너리/모듈 간단)\n",
    "\n",
    "## 클래스는 쉽게 말해서 리스트이다.\n",
    "# 배열이라는 추상적인 개념이 있고, 반도귀로섬이 배열이라는 걸 베껴서 만들어낸 게 리스트라고.\n",
    "# 클래스는 설계도\n",
    "# list() 클래스를 친절하게 만들어줬고 (배열array형)\n",
    "# 이를 통해 변수 이름을 지어서 할당하면 인스턴스가 만들어진다.\n",
    "\n",
    "my_list = [1, 2, 3]\n",
    "my_list2 = list()\n",
    "type(my_list)\n",
    "\n",
    "## 반도귀로섬의 배열 만들기 예시\n",
    "\n",
    "class list():\n",
    "    # def로 선언되는 함수는 -> 메소드로 부른다.\n",
    "    def append(self, element):\n",
    "        # 현재 리스트 요소에 elemet를 추가한다. 라는 기능을 정의했다고 친다.\n",
    "\n",
    "# self는 인스턴스, 클래스로 만들어진 나 자신. 기능에 셀프 무조건 들어가야 함.\n",
    "# self.name <- self 복제인간의 .name 속성이라고 한다.\n",
    "여기서 나오는 sql 예시 복습하기\n",
    "# 분석에서 잘 사용하지 않지만 앞으로 배울 머신러닝, 등에서 쓰이는 개념의 기본이다."
   ]
  },
  {
   "cell_type": "code",
   "execution_count": 146,
   "metadata": {},
   "outputs": [
    {
     "name": "stdout",
     "output_type": "stream",
     "text": [
      "['유효한 이메일 주소입니다.', '유효하지 않은 이메일 주소입니다.', '유효하지 않은 이메일 주소입니다.', '유효한 이메일 주소입니다.']\n"
     ]
    }
   ],
   "source": [
    "email_list = [\n",
    "    \"example@example.com\",\n",
    "    \"wrongemail@.com\",\n",
    "    \"anotherexample.com\",\n",
    "    \"correct@email.co.uk\"\n",
    "]\n",
    "\n",
    "# 반복문을 이용해서 if 조건에 맞는지 확인하고 result에 넣어서 출력한다.\n",
    "# 근데 이메일 조건 넣는 게 문제다.\n",
    "\n",
    "def validate_emails(a):\n",
    "    result = []\n",
    "    for x in a:\n",
    "        if '@' in x:\n",
    "            if len(x.split('@')[0]) >= 1:\n",
    "                if '@.' in x:\n",
    "                    result.append('유효하지 않은 이메일 주소입니다.')\n",
    "                else:\n",
    "                    result.append('유효한 이메일 주소입니다.')\n",
    "            else:\n",
    "                result.append('유효하지 않은 이메일 주소입니다.')\n",
    "            \n",
    "        else:\n",
    "            result.append('유효하지 않은 이메일 주소입니다.')\n",
    "    return result\n",
    "\n",
    "\n",
    "result = validate_emails(email_list)\n",
    "\n",
    "print(result)"
   ]
  },
  {
   "cell_type": "code",
   "execution_count": 165,
   "metadata": {},
   "outputs": [
    {
     "name": "stdout",
     "output_type": "stream",
     "text": [
      "None\n"
     ]
    }
   ],
   "source": [
    "# 참가자\n",
    "participant = [\"mike\", \"lisa\", \"tom\", \"lisa\"]\n",
    "# 완주자\n",
    "completion = [\"tom\", \"mike\", \"lisa\"]\n",
    "\n",
    "# 동명이인 조건이 문제다.\n",
    "\n",
    "def find_non_completer(a, b):\n",
    "    result = []\n",
    "    for name in participant:\n",
    "        if participant in completion:\n",
    "            pass\n",
    "        else:\n",
    "            result.append(name)\n",
    "\n",
    "print(result)\n",
    "\n",
    "result = find_non_completer(participant, completion)"
   ]
  },
  {
   "cell_type": "code",
   "execution_count": 164,
   "metadata": {},
   "outputs": [
    {
     "name": "stdout",
     "output_type": "stream",
     "text": [
      "죽었다\n"
     ]
    }
   ],
   "source": [
    "# 파이썬 기초 강의 클래스 간단 예제\n",
    "class Monster():\n",
    "    hp = 100\n",
    "    alive = True\n",
    "\n",
    "    def damage(self, attack):\n",
    "        self.hp = self.hp - attack\n",
    "        if self.hp < 0:\n",
    "            self.alive = False\n",
    "\n",
    "    def status_check(self):\n",
    "        if self.alive:\n",
    "            print('살아있다')\n",
    "        else:\n",
    "            print('죽었다')\n",
    "\n",
    "m1 = Monster()\n",
    "m1.damage(120)\n",
    "m1.status_check()\n",
    "\n",
    "# m2 = Monster()\n",
    "# m2.damage(90)\n",
    "# m2.status_check()"
   ]
  },
  {
   "cell_type": "code",
   "execution_count": null,
   "metadata": {},
   "outputs": [],
   "source": [
    "# 함수는 나중에 붙이자!\n",
    "n = \"Ailce\"\n",
    "e = \"alice@example.com\"\n",
    "p = 100\n",
    "\n",
    "\n",
    "class Customer:\n",
    "    def join_customer(a):\n",
    "\n",
    "\n",
    "c1 = Customer()\n",
    "c1.name =\n",
    "c1.email =\n",
    "c1.point =\n",
    "\n",
    "\n",
    "\n",
    "\n",
    "\n",
    "\n",
    "\n",
    "c2 = add_points(amount)\n",
    "\n",
    "c3= reduce_points(amount)"
   ]
  },
  {
   "cell_type": "code",
   "execution_count": 177,
   "metadata": {},
   "outputs": [
    {
     "data": {
      "text/plain": [
       "['Ailce', 'alice@example.com', 100]"
      ]
     },
     "execution_count": 177,
     "metadata": {},
     "output_type": "execute_result"
    }
   ],
   "source": [
    "aa = (\"Ailce\", \"alice@example.com\", 100)\n",
    "nn = []\n",
    "ee = []\n",
    "pp = []\n",
    "\n",
    "for bb in aa:\n",
    "    nn.append(bb)\n",
    "        \n",
    "    ee.append(bb)\n",
    "\n",
    "    pp.append(bb)\n",
    "\n",
    "ee"
   ]
  },
  {
   "cell_type": "code",
   "execution_count": 6,
   "metadata": {},
   "outputs": [
    {
     "data": {
      "text/plain": [
       "[-1]"
      ]
     },
     "execution_count": 6,
     "metadata": {},
     "output_type": "execute_result"
    }
   ],
   "source": [
    "# 알고리즘 특강 1교시 배열학습 중 예제 1번 해설\n",
    "# def solution(arr, divisor):\n",
    "#     result = []\n",
    "\n",
    "# arr, divisor 모두 밖에서 들어올거기 때문에 추후 삭제.\n",
    "arr = []\n",
    "divisor = 5\n",
    "# result는 함수쓰면서 넣어줄거라 추후 이동한다.\n",
    "result = []\n",
    "# 바로 함수를 만드는 습관이 잘못됐다.\n",
    "# 나누어 떨어지는 값을 보관할거니까.\n",
    "# 1. for문으로 나누어 떨어지는 거 계산한다.\n",
    "for num in arr:\n",
    "    if num%divisor == 0:\n",
    "        result.append(num)\n",
    "        # 2. append는 추가하는 메소드이다.\n",
    "        # else에 뭐를 적어야 할지 모르겠다.\n",
    "        # if가 끝난 후 조건을 줘야 한다는 것도.\n",
    "\n",
    "result.sort()\n",
    "\n",
    "# 3. element가 하나도 없을 때, -1을 넣어라.\n",
    "\n",
    "if len(result) ==0:\n",
    "    result.append(-1)\n",
    "\n",
    "result\n",
    "\n",
    "# 코테는 결과값을 retrun해줘야 한다."
   ]
  },
  {
   "cell_type": "code",
   "execution_count": 8,
   "metadata": {},
   "outputs": [
    {
     "data": {
      "text/plain": [
       "[1, 2, 3, 36]"
      ]
     },
     "execution_count": 8,
     "metadata": {},
     "output_type": "execute_result"
    }
   ],
   "source": [
    "# 알고리즘 특강 1교시 배열학습 중 예제 1번 복습\n",
    "\n",
    "arr = [2, 36, 1, 3]\n",
    "divisor = 1\n",
    "answer = []\n",
    "\n",
    "for a in arr:\n",
    "    if a%divisor == 0:\n",
    "        answer.append(a)\n",
    "\n",
    "answer.sort()\n",
    "\n",
    "if answer == []:\n",
    "    answer.append(-1)\n",
    "\n",
    "answer\n",
    "\n",
    "# 굿! 코드카타로 가자간다."
   ]
  },
  {
   "cell_type": "code",
   "execution_count": 11,
   "metadata": {},
   "outputs": [
    {
     "name": "stdout",
     "output_type": "stream",
     "text": [
      "[1, 4, 5]\n"
     ]
    },
    {
     "data": {
      "text/plain": [
       "[1, 4, 5]"
      ]
     },
     "execution_count": 11,
     "metadata": {},
     "output_type": "execute_result"
    }
   ],
   "source": [
    "arr = [1, 5, 4]\n",
    "new_arr = sorted(arr)\n",
    "\n",
    "print(sorted(arr))\n",
    "new_arr"
   ]
  },
  {
   "cell_type": "code",
   "execution_count": 13,
   "metadata": {},
   "outputs": [
    {
     "name": "stdout",
     "output_type": "stream",
     "text": [
      "None\n"
     ]
    },
    {
     "data": {
      "text/plain": [
       "[1, 4, 5]"
      ]
     },
     "execution_count": 13,
     "metadata": {},
     "output_type": "execute_result"
    }
   ],
   "source": [
    "my_arr = [1, 5, 4]\n",
    "\n",
    "my_arr.sort()\n",
    "\n",
    "print(my_arr.sort())\n",
    "my_arr"
   ]
  },
  {
   "cell_type": "code",
   "execution_count": 82,
   "metadata": {},
   "outputs": [
    {
     "data": {
      "text/plain": [
       "[1, 3, 0, 1]"
      ]
     },
     "execution_count": 82,
     "metadata": {},
     "output_type": "execute_result"
    }
   ],
   "source": [
    "# 순서유지 조건으로 집합은 안되는 큐예시\n",
    "\n",
    "arr = [1, 1, 3, 3, 0, 1, 1]\n",
    "answer = []\n",
    "\n",
    "for a in arr:\n",
    "    # 이건 answer 안에 없으면 넣어라 => 중복불허용 => 오답\n",
    "    # = if a not in answer: => 오답\n",
    "    answer.append(a)\n",
    "    if len(answer) >= 2:\n",
    "        if answer[-1] == answer[-2]:\n",
    "            answer.pop()\n",
    "# 직전에 들어온거 (=마지막 인덱스랑) 다르면 넣어라 => 중복허용\n",
    "\n",
    "answer"
   ]
  },
  {
   "cell_type": "code",
   "execution_count": 86,
   "metadata": {},
   "outputs": [
    {
     "data": {
      "text/plain": [
       "[1, 3, 0, 1]"
      ]
     },
     "execution_count": 86,
     "metadata": {},
     "output_type": "execute_result"
    }
   ],
   "source": [
    "# 큐 튜터쌤 코드 따라하기 : 무조건 첫 번째 값은 넣어줄거야\n",
    "\n",
    "arr = [1, 1, 3, 3, 0, 1, 1]\n",
    "answer = []\n",
    "answer.append(arr[0])\n",
    "\n",
    "for result in arr:\n",
    "    if answer[-1] == result:\n",
    "        pass\n",
    "    else:\n",
    "        answer.append(result)\n",
    "\n",
    "\n",
    "answer"
   ]
  },
  {
   "cell_type": "code",
   "execution_count": 107,
   "metadata": {},
   "outputs": [
    {
     "name": "stdout",
     "output_type": "stream",
     "text": [
      "False\n"
     ]
    }
   ],
   "source": [
    "# 올바른 괄호 : 알고리즘 스택 숙제\n",
    "# return값은 단 하나란 걸 기억하자(X) -> 와 배신 ㅇㅈㄹ return이 하나만 나올 수 있으면 돼 여러번 머리 써서 잘 쓸 수 있다.\n",
    "\n",
    "arr = \"))()()\"\n",
    "answer = []\n",
    "\n",
    "for num in arr:\n",
    "    if num == '(':\n",
    "        answer.append(num)\n",
    "    else:\n",
    "        if len(answer) == 0:\n",
    "            answer.append(num)\n",
    "        else:\n",
    "            if answer[-1] == ')':\n",
    "                pass\n",
    "            else:\n",
    "                answer.pop()\n",
    "\n",
    "if answer == []:\n",
    "    print(True)\n",
    "else:\n",
    "    print(False)"
   ]
  },
  {
   "cell_type": "code",
   "execution_count": null,
   "metadata": {},
   "outputs": [],
   "source": [
    "#위의 코드를 줄여보자고! 튜터님도 print로 중간확인 안하셨다고!\n",
    "\n",
    "s = \"))()()\"\n",
    "answer = []\n",
    "\n",
    "for num in s:\n",
    "    if num == '(':\n",
    "        answer.append(num)\n",
    "    else:\n",
    "        if len(answer) == 0: #바꿔서 자료형이 0이 아닐 때(=자료형이 True일 때) pop해라로도 쓸 수 있다.\n",
    "            retrun False #그럼 if answer: 이라고만 쓰고 answer.pop()만 하면 되지.\n",
    "        else:\n",
    "            answer.pop()\n",
    "\n",
    "if len(answer) == 0:\n",
    "    return True\n",
    "else:\n",
    "    return False"
   ]
  },
  {
   "cell_type": "code",
   "execution_count": null,
   "metadata": {},
   "outputs": [],
   "source": [
    "# 팩토리얼 실습 - 알고리즘 2교시, 재귀로 구현하는 것 아님, 기본 구현임\n",
    "n = 5\n",
    "answer = []\n",
    "\n",
    "# 중간에 힌트를 얻었다 와우! 아무튼 이게 [1, 2, 3, 4, 5] 다.\n",
    "# 일단 [0]를 넣고 하나씩 곱하는데 어디까지 n까지\n",
    "# n[0]*n[1]*n[2]*n[3]*n[4]\n",
    "for num in range(1, n+1):\n",
    "    if answer == []:\n",
    "        answer.append(num) # 이걸 걍 위에 num = 1이라고 미리 지정해버림;\n",
    "    if num >= 2:\n",
    "        if answer:\n",
    "            # answer에 값이 있으면 num과 곱한거 추가하고 기존거 삭제해!하고 싶었다.\n",
    "            answer.append(answer*num)\n",
    "            remove.answer[0]\n",
    "\n",
    "print(answer)\n"
   ]
  },
  {
   "cell_type": "code",
   "execution_count": 36,
   "metadata": {},
   "outputs": [
    {
     "data": {
      "text/plain": [
       "1"
      ]
     },
     "execution_count": 36,
     "metadata": {},
     "output_type": "execute_result"
    }
   ],
   "source": [
    "# 해설 : 위 문제의 핵심은 0이나 1이 들어올 때, 값은 1이 나와야 한다.\n",
    "# range문은 시작과 끝이 차이가 있을 때 실행된다. 출발과 끝이 같으면 안된다.\n",
    "# 이건 range를 잘아는 사람이 만든거다. for문이 실행되지 않으니\n",
    "n = 0\n",
    "num = 1\n",
    "\n",
    "for i in range(1, n+1): # 1이상일 때, 잘 돌아감. 0일 때 1이 나와야 한다.\n",
    "    num = num * i # renge(1, 1) for 문이 실행되지 않으니 n=1 그대로 나옴.\n",
    "\n",
    "num\n",
    "\n",
    "# 이게 일반적인 구현 아래는 재귀 함수"
   ]
  },
  {
   "cell_type": "code",
   "execution_count": null,
   "metadata": {},
   "outputs": [],
   "source": []
  }
 ],
 "metadata": {
  "kernelspec": {
   "display_name": "Python 3",
   "language": "python",
   "name": "python3"
  },
  "language_info": {
   "codemirror_mode": {
    "name": "ipython",
    "version": 3
   },
   "file_extension": ".py",
   "mimetype": "text/x-python",
   "name": "python",
   "nbconvert_exporter": "python",
   "pygments_lexer": "ipython3",
   "version": "3.11.2"
  }
 },
 "nbformat": 4,
 "nbformat_minor": 2
}
