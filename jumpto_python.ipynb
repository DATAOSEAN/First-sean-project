{
 "cells": [
  {
   "cell_type": "code",
   "execution_count": null,
   "metadata": {},
   "outputs": [],
   "source": [
    "점프 투 파이썬 내장함수 실습 242p"
   ]
  },
  {
   "cell_type": "code",
   "execution_count": 5,
   "metadata": {},
   "outputs": [
    {
     "data": {
      "text/plain": [
       "3"
      ]
     },
     "execution_count": 5,
     "metadata": {},
     "output_type": "execute_result"
    }
   ],
   "source": [
    "# 내장함수: 숫자의 절댓값을 리턴한다.\n",
    "abs(-3)"
   ]
  },
  {
   "cell_type": "code",
   "execution_count": 6,
   "metadata": {},
   "outputs": [
    {
     "data": {
      "text/plain": [
       "False"
      ]
     },
     "execution_count": 6,
     "metadata": {},
     "output_type": "execute_result"
    }
   ],
   "source": [
    "# 반복가능한 데이터 내에 거짓이 하나라도 있으면 False를 리턴한다. 모두 참이어야 True를 리턴한다.\n",
    "all([1,2,3,0])"
   ]
  },
  {
   "cell_type": "code",
   "execution_count": 7,
   "metadata": {},
   "outputs": [
    {
     "data": {
      "text/plain": [
       "True"
      ]
     },
     "execution_count": 7,
     "metadata": {},
     "output_type": "execute_result"
    }
   ],
   "source": [
    "# 반복가능한 데이터란? for문에서 사용할 수 있는 자료형을 의미한다. 리스트, 튜플, 문자열, 딕셔너리, 집합 등이 있다.\n",
    "# 반복가능한 데이터를 파라미터로 입력 받아 그 중 하나라도 참이 있으면 True 리턴한다. 모두가 거짓일 때만 False를 리턴한다.\n",
    "any([1,2,3,0])"
   ]
  },
  {
   "cell_type": "code",
   "execution_count": 12,
   "metadata": {},
   "outputs": [
    {
     "data": {
      "text/plain": [
       "['__class__',\n",
       " '__class_getitem__',\n",
       " '__contains__',\n",
       " '__delattr__',\n",
       " '__delitem__',\n",
       " '__dir__',\n",
       " '__doc__',\n",
       " '__eq__',\n",
       " '__format__',\n",
       " '__ge__',\n",
       " '__getattribute__',\n",
       " '__getitem__',\n",
       " '__getstate__',\n",
       " '__gt__',\n",
       " '__hash__',\n",
       " '__init__',\n",
       " '__init_subclass__',\n",
       " '__ior__',\n",
       " '__iter__',\n",
       " '__le__',\n",
       " '__len__',\n",
       " '__lt__',\n",
       " '__ne__',\n",
       " '__new__',\n",
       " '__or__',\n",
       " '__reduce__',\n",
       " '__reduce_ex__',\n",
       " '__repr__',\n",
       " '__reversed__',\n",
       " '__ror__',\n",
       " '__setattr__',\n",
       " '__setitem__',\n",
       " '__sizeof__',\n",
       " '__str__',\n",
       " '__subclasshook__',\n",
       " 'clear',\n",
       " 'copy',\n",
       " 'fromkeys',\n",
       " 'get',\n",
       " 'items',\n",
       " 'keys',\n",
       " 'pop',\n",
       " 'popitem',\n",
       " 'setdefault',\n",
       " 'update',\n",
       " 'values']"
      ]
     },
     "execution_count": 12,
     "metadata": {},
     "output_type": "execute_result"
    }
   ],
   "source": [
    "# 객체가 지닌 변수나 함수를 보여수는 함수이다.\n",
    "dir({'1':'a'}) # 딕셔너리 관련 함수를 모두 보여준다."
   ]
  },
  {
   "cell_type": "code",
   "execution_count": 13,
   "metadata": {},
   "outputs": [
    {
     "data": {
      "text/plain": [
       "(2, 1)"
      ]
     },
     "execution_count": 13,
     "metadata": {},
     "output_type": "execute_result"
    }
   ],
   "source": [
    "divmod(7, 3) # 몫과 나머지를 튜플로 리턴한다."
   ]
  },
  {
   "cell_type": "code",
   "execution_count": 14,
   "metadata": {},
   "outputs": [
    {
     "data": {
      "text/plain": [
       "2"
      ]
     },
     "execution_count": 14,
     "metadata": {},
     "output_type": "execute_result"
    }
   ],
   "source": [
    "7 // 3 # 몫"
   ]
  },
  {
   "cell_type": "code",
   "execution_count": 15,
   "metadata": {},
   "outputs": [
    {
     "data": {
      "text/plain": [
       "1"
      ]
     },
     "execution_count": 15,
     "metadata": {},
     "output_type": "execute_result"
    }
   ],
   "source": [
    "7 % 3 # 나머지"
   ]
  },
  {
   "cell_type": "code",
   "execution_count": 22,
   "metadata": {},
   "outputs": [
    {
     "name": "stdout",
     "output_type": "stream",
     "text": [
      "0 one\n",
      "1 two\n",
      "2 three\n"
     ]
    }
   ],
   "source": [
    "# 열거하다라는 뜻으로 순서가 있는 데이터를 입력받아 인덱스를 포함하는 enumerate 객체를 리턴한다. 보통 for문과 함께 사용된다.\n",
    "# 반복문에서 객체가 현재 어느 위치에 있는지 알려주는 인덱스 값이 필요하다면 enumerate 함수를 이용하자.\n",
    "for i, name in enumerate(['one', 'two', 'three']):\n",
    "    print(i, name)"
   ]
  },
  {
   "cell_type": "code",
   "execution_count": 26,
   "metadata": {},
   "outputs": [
    {
     "data": {
      "text/plain": [
       "3"
      ]
     },
     "execution_count": 26,
     "metadata": {},
     "output_type": "execute_result"
    }
   ],
   "source": [
    "# 문자열로 구성된 표현식을 입려받아 해당 문자열을 실행한 결괏값을 리턴한다. eval=expression\n",
    "eval('1+2')"
   ]
  },
  {
   "cell_type": "code",
   "execution_count": 27,
   "metadata": {},
   "outputs": [
    {
     "data": {
      "text/plain": [
       "(2, 1)"
      ]
     },
     "execution_count": 27,
     "metadata": {},
     "output_type": "execute_result"
    }
   ],
   "source": [
    "eval('divmod(7,3)') #'문자열'로 입력받고 실행을 시키네."
   ]
  },
  {
   "cell_type": "code",
   "execution_count": 29,
   "metadata": {},
   "outputs": [
    {
     "name": "stdout",
     "output_type": "stream",
     "text": [
      "[1, 2, 6]\n"
     ]
    }
   ],
   "source": [
    "# filter(함수, 반복_가능한_데이터) : 데이터를 하나씩 함수에 집어넣고 리턴 값이 참인 경우만 리턴한다.\n",
    "# 일단 비교가능한 함수를 만들어 본다.\n",
    "def positive(l): # 여기 positive라는 함수가 있다.\n",
    "    result = [] # 최종으로 result에 담아라.\n",
    "    for i in l: # i 변수에 하나씩 담을건데\n",
    "        if i > 0: # 만약 양수일 때만\n",
    "            result.append(i) #result에 담아라. i는 버림.\n",
    "    return result # 1함수당 1리턴값이 나온다.\n",
    "\n",
    "print(positive([1, -3, 2, 0, -5, 6]))"
   ]
  },
  {
   "cell_type": "code",
   "execution_count": 60,
   "metadata": {},
   "outputs": [
    {
     "data": {
      "text/plain": [
       "[1, 2, 6]"
      ]
     },
     "execution_count": 60,
     "metadata": {},
     "output_type": "execute_result"
    }
   ],
   "source": [
    "# return 조건이 True/False 판별하는 용이지?\n",
    "def positive(l):\n",
    "    return l > 0\n",
    "\n",
    "list(filter(positive, [1, -3, 2, 0, -5, 6])) # 위와 같이 list로 만들었다."
   ]
  },
  {
   "cell_type": "code",
   "execution_count": 38,
   "metadata": {},
   "outputs": [
    {
     "name": "stdout",
     "output_type": "stream",
     "text": [
      "hi\n"
     ]
    }
   ],
   "source": [
    "a = input(\"상단의 입력란에 내용을 입력해주세요: \") # 사용자 입력을 받는 함수이다.\n",
    "\n",
    "print(a)"
   ]
  },
  {
   "cell_type": "code",
   "execution_count": 39,
   "metadata": {},
   "outputs": [
    {
     "data": {
      "text/plain": [
       "3"
      ]
     },
     "execution_count": 39,
     "metadata": {},
     "output_type": "execute_result"
    }
   ],
   "source": [
    "int(3.2) # 정수로 리턴한다."
   ]
  },
  {
   "cell_type": "code",
   "execution_count": 94,
   "metadata": {},
   "outputs": [
    {
     "data": {
      "text/plain": [
       "'3'"
      ]
     },
     "execution_count": 94,
     "metadata": {},
     "output_type": "execute_result"
    }
   ],
   "source": [
    "str(3) # 문자열 형태로 객체를 변환하여 리턴하는 함수이다."
   ]
  },
  {
   "cell_type": "code",
   "execution_count": 43,
   "metadata": {},
   "outputs": [
    {
     "data": {
      "text/plain": [
       "True"
      ]
     },
     "execution_count": 43,
     "metadata": {},
     "output_type": "execute_result"
    }
   ],
   "source": [
    "class Person:\n",
    "    pass\n",
    "\n",
    "a = Person() # a는 객체이자 클래스 Person의 인스턴스이다.\n",
    "isinstance(a, Person) # 그게 사실이니? 말해봐."
   ]
  },
  {
   "cell_type": "code",
   "execution_count": 44,
   "metadata": {},
   "outputs": [
    {
     "data": {
      "text/plain": [
       "6"
      ]
     },
     "execution_count": 44,
     "metadata": {},
     "output_type": "execute_result"
    }
   ],
   "source": [
    "len(\"python\") # 요소 전채의 개수를 세어준다."
   ]
  },
  {
   "cell_type": "code",
   "execution_count": 97,
   "metadata": {},
   "outputs": [
    {
     "name": "stdout",
     "output_type": "stream",
     "text": [
      "['p', 'y', 't', 'h', 'o', 'n']\n",
      "[1, 2, 3]\n",
      "[1, 2, 3]\n",
      "[0, 1, 2]\n",
      "[1, 2, 3]\n",
      "{1, 2, 3}\n"
     ]
    }
   ],
   "source": [
    "print(list(\"python\")) # 반복 가능한 데이터를 입력받아 리스트로 만들어 리턴한다.\n",
    "print(list((1, 2, 3))) # 문자열 -> 리스트\n",
    "print(list([1, 2, 3])) # 리스트 -> 리스트\n",
    "print(list({0: 1, 1: 2, 2: 3})) # 딕셔너리 key만 리스트\n",
    "print(list(set([1, 2, 3]))) # 리스트 -> 집합 -> 리스트\n",
    "\n",
    "print(set([1, 2, 3])) # 집합"
   ]
  },
  {
   "cell_type": "code",
   "execution_count": 98,
   "metadata": {},
   "outputs": [
    {
     "data": {
      "text/plain": [
       "('z', 'e', 'r', 'o')"
      ]
     },
     "execution_count": 98,
     "metadata": {},
     "output_type": "execute_result"
    }
   ],
   "source": [
    "# 위가 리스트면 여기는 모든 출력 결과물이 튜플이다.\n",
    "tuple(\"zero\")"
   ]
  },
  {
   "cell_type": "code",
   "execution_count": 57,
   "metadata": {},
   "outputs": [
    {
     "name": "stdout",
     "output_type": "stream",
     "text": [
      "[2, 4, 6, 8]\n"
     ]
    }
   ],
   "source": [
    "# map(f, iterable)은 함수(f)와 반복가능한 데이터를 입력으로 받아 입력 받은 데이터를 각 요소에 함수 f를 적용한 결과를 리턴하는 함수이다.\n",
    "# 일단 filter와 마찬가지로 함수를 만들어보자.\n",
    "def two_times(numberlist):\n",
    "    result = []\n",
    "    for number in numberlist:\n",
    "        result.append(number*2)\n",
    "    return result\n",
    "\n",
    "result = two_times([1,2,3,4])\n",
    "print(result) # 각 요소에 2를 곱해서 리턴한다. 이걸 map으로 바꿔서 작성해볼까? filter를 생각하면서 작성하면 쉽겠다."
   ]
  },
  {
   "cell_type": "code",
   "execution_count": 70,
   "metadata": {},
   "outputs": [
    {
     "name": "stdout",
     "output_type": "stream",
     "text": [
      "<map object at 0x0000020EE073A200>\n",
      "[2, 4, 6, 8]\n",
      "[2, 4, 6, 8]\n"
     ]
    }
   ],
   "source": [
    "def two_times(numberlist): # 함수\n",
    "    return numberlist*2 # return 조건 (filter는 참값만 출력해주고, map은 함수를 적용해준다)\n",
    "\n",
    "result = map(two_times, [1,2,3,4])\n",
    "\n",
    "print(result) # 단순히 iterator의 주소(컴퓨터 메모리 상의 객체가 위치한 곳)를 나타내는 것이며, 직접적인 정보를 제공하지 않는다.\n",
    "# map 함수의 결과는 iterator(반복자)이다.\n",
    "# 따라서 list() 함수를 사용하여 명시적으로 리스트로 변환하지 않으면, iterator가 가리키는 값들은 한 번 소비된 후에는 다시 사용할 수 없다.\n",
    "# 예를 들어, 아래와 같이 list() 함수를 사용하지 않고 직접 iterator를 출력하면, 값이 소비된 후에는 빈 리스트가 출력된다는데 아니던데 아무튼 이론상 그렇다.\n",
    "\n",
    "print(list(result))\n",
    "# filter, map은 값이 일회용이니까 list화 시켜줘야 한다.\n",
    "\n",
    "print(list(map(two_times, [1,2,3,4])))\n",
    "# 교재용 정답코드"
   ]
  },
  {
   "cell_type": "code",
   "execution_count": 72,
   "metadata": {},
   "outputs": [
    {
     "data": {
      "text/plain": [
       "2"
      ]
     },
     "execution_count": 72,
     "metadata": {},
     "output_type": "execute_result"
    }
   ],
   "source": [
    "max([1,2,-3])"
   ]
  },
  {
   "cell_type": "code",
   "execution_count": 75,
   "metadata": {},
   "outputs": [
    {
     "data": {
      "text/plain": [
       "'h'"
      ]
     },
     "execution_count": 75,
     "metadata": {},
     "output_type": "execute_result"
    }
   ],
   "source": [
    "min(\"python\") # 문자열 기준은 유니코드로 값이 적은 값을 출력한다."
   ]
  },
  {
   "cell_type": "code",
   "execution_count": 80,
   "metadata": {},
   "outputs": [],
   "source": [
    "f = open(\"tips_data.csv\", \"r\") # 파일이름/읽기모드를 입력받아 파일 객체(f)를 리턴하는 함수이다.\n",
    "f.close()"
   ]
  },
  {
   "cell_type": "code",
   "execution_count": 81,
   "metadata": {},
   "outputs": [
    {
     "data": {
      "text/plain": [
       "16"
      ]
     },
     "execution_count": 81,
     "metadata": {},
     "output_type": "execute_result"
    }
   ],
   "source": [
    "pow(2,4)"
   ]
  },
  {
   "cell_type": "code",
   "execution_count": 85,
   "metadata": {},
   "outputs": [
    {
     "data": {
      "text/plain": [
       "[1, 3, 5, 7, 9]"
      ]
     },
     "execution_count": 85,
     "metadata": {},
     "output_type": "execute_result"
    }
   ],
   "source": [
    "list(range(1, 10, 2)) # 1부터 9까지 숫자 사이 거리는 2"
   ]
  },
  {
   "cell_type": "code",
   "execution_count": 86,
   "metadata": {},
   "outputs": [
    {
     "data": {
      "text/plain": [
       "[0, -1, -2, -3, -4, -5, -6, -7, -8]"
      ]
     },
     "execution_count": 86,
     "metadata": {},
     "output_type": "execute_result"
    }
   ],
   "source": [
    "list(range(0, -9, -1)) # 0부터 -9까지 숫자 사이 거리는 -1"
   ]
  },
  {
   "cell_type": "code",
   "execution_count": 88,
   "metadata": {},
   "outputs": [
    {
     "data": {
      "text/plain": [
       "5.68"
      ]
     },
     "execution_count": 88,
     "metadata": {},
     "output_type": "execute_result"
    }
   ],
   "source": [
    "round(5.6789, 2) # 반올림"
   ]
  },
  {
   "cell_type": "code",
   "execution_count": 93,
   "metadata": {},
   "outputs": [
    {
     "name": "stdout",
     "output_type": "stream",
     "text": [
      "[1, 2, 3]\n",
      "[1, 2, 3]\n",
      "['e', 'o', 'r', 'z']\n",
      "['e', 'o', 'r', 'z']\n"
     ]
    }
   ],
   "source": [
    "print(sorted([3,1,2])) # 리스트 정렬\n",
    "print(sorted((3,1,2))) # 튜플 정렬\n",
    "print(sorted([\"z\",\"e\",\"r\",\"o\"])) # 문자로 된 리스트 정렬\n",
    "print(sorted(\"zero\")) # 문자열 정렬\n",
    "\n",
    "# 단, 리스트 자료형에도 sort 함수가 있는데 이것은 리스트 객체 그 자체를 정렬할 뿐, 정렬된 결과 값을 리턴하지 않는다. (직접적으로 바꿔주지 않음) "
   ]
  },
  {
   "cell_type": "code",
   "execution_count": 96,
   "metadata": {},
   "outputs": [
    {
     "data": {
      "text/plain": [
       "15"
      ]
     },
     "execution_count": 96,
     "metadata": {},
     "output_type": "execute_result"
    }
   ],
   "source": [
    "sum([4,5,6]) # sum(iterable)"
   ]
  },
  {
   "cell_type": "code",
   "execution_count": 100,
   "metadata": {},
   "outputs": [
    {
     "name": "stdout",
     "output_type": "stream",
     "text": [
      "<class 'str'>\n",
      "<class 'dict'>\n",
      "<class 'tuple'>\n",
      "<class 'list'>\n",
      "<class '_io.TextIOWrapper'>\n"
     ]
    }
   ],
   "source": [
    "print(type(\"zero\")) # 문자열\n",
    "print(type({})) # 딕셔너리\n",
    "print(type(())) # 튜플\n",
    "print(type([])) # 리스트\n",
    "print(type(open(\"text\", \"w\"))) #파일 자료형"
   ]
  },
  {
   "cell_type": "code",
   "execution_count": 104,
   "metadata": {},
   "outputs": [
    {
     "name": "stdout",
     "output_type": "stream",
     "text": [
      "[('a', 'd'), ('b', 'e'), ('c', 'f')]\n",
      "[(1, 4), (2, 5), (3, 6)]\n",
      "[(1, 4, 7), (2, 5, 8), (3, 6, 9)]\n"
     ]
    }
   ],
   "source": [
    "# zip은 튜플로 이루어진 리스트로 출력하는데, 데이터 개수가 맞아야 실행된다.\n",
    "# zip(iterable)라는 기본 구조에서 iterable은 반복 가능한 데이터를 여러 개 입력할 수 있다는 의미이다.\n",
    "print(list(zip(\"abc\", \"def\"))) # map과 마찬가지 이유로 list에 넣어준다.\n",
    "print(list(zip([1,2,3], [4,5,6])))\n",
    "print(list(zip((1,2,3), (4,5,6), (7,8,9))))"
   ]
  },
  {
   "cell_type": "code",
   "execution_count": null,
   "metadata": {},
   "outputs": [],
   "source": [
    "점프 투 파이썬 되새김 문제 295p"
   ]
  },
  {
   "cell_type": "code",
   "execution_count": 172,
   "metadata": {},
   "outputs": [
    {
     "name": "stdout",
     "output_type": "stream",
     "text": [
      "3\n"
     ]
    }
   ],
   "source": [
    "class Calculator:\n",
    "    def __init__(self):\n",
    "        self.value = 0         # self.value변수에 초깃값 0을 넣고 시작한다.\n",
    "    def add(self, val):\n",
    "        self.value += val\n",
    "        \n",
    "\n",
    "class UpgradeCalculator(Calculator):\n",
    "    def minus(self, min):\n",
    "        self.value -= min      # 1) 함수에 해당하는 return 값이 없어야 답이 나오는 이유\n",
    "        \n",
    "\n",
    "cal = UpgradeCalculator()      # 생성자에 self만 있는 것처럼 입력값이 아무것도 없음.\n",
    "cal.add(10)\n",
    "cal.minus(7)                   # 2) 위에서 왜 아래로 연결되는지 모르겠음. 왜 cal.add(10) - cal.minus(7) 이 자동으로 되는지?\n",
    "\n",
    "print(cal.value)               # 객체 cal에 대한 변수 = 객체 변수 cal.value"
   ]
  },
  {
   "cell_type": "code",
   "execution_count": 3,
   "metadata": {},
   "outputs": [
    {
     "name": "stdout",
     "output_type": "stream",
     "text": [
      "10\n",
      "3\n"
     ]
    }
   ],
   "source": [
    "class Calculator: # 클래스와 상속받은 클래스로 계산기를 만드는 문제\n",
    "    def __init__(self): # init의 속성 때문인데 객체가 입력되면 자동으로 return값을 호출하는 기능이 있다.\n",
    "        self.value = 0  # 뭔말이징? = 메서드를 사용하면 객체의 속성을 초기화하고 원하는 초기 상태를 설정할 수 있다.\n",
    "    def add(self, val): # = 주된 역할은 객체의 초기화를 담당하는 것이며, 일반적으로 반환값이 없습니다. \n",
    "        self.value += val # 함수를 나가면 끝나는거 아니고 도장찍는거랑 같음 함수의 상위개념이다. 함수는 일회성 느낌이면?\n",
    "\n",
    "class UpgradeCalculator(Calculator):\n",
    "    def minus(self, min):\n",
    "        self.value -= min\n",
    "\n",
    "cal = UpgradeCalculator()\n",
    "\n",
    "cal.add(10) # 10 : cal.value 안에 저장되어 있음.\n",
    "print(cal.value)\n",
    "cal.minus(7) #10-7 도장찍는 느낌으로 이해! 계속 값이 저장되는데 안날라가.. 그러니까 return이 없어도 되네?\n",
    "print(cal.value) # 함수에 값을 반환하는 return도 없는데 순서대로 값을 저장하고 연산되는 이유? init 때문이다."
   ]
  },
  {
   "cell_type": "code",
   "execution_count": 131,
   "metadata": {},
   "outputs": [
    {
     "data": {
      "text/plain": [
       "10"
      ]
     },
     "execution_count": 131,
     "metadata": {},
     "output_type": "execute_result"
    }
   ],
   "source": [
    "class Calculator:\n",
    "    def __init__(self, value):\n",
    "        self.valu = 0\n",
    "        self.value = value      # 너무 이해가 안가서 init에 둘 다 넣는 조건 써봤음.\n",
    "    def add(self):\n",
    "        result = self.valu + self.value\n",
    "        return result\n",
    "\n",
    "cal = Calculator(10)\n",
    "\n",
    "cal.add()"
   ]
  },
  {
   "cell_type": "code",
   "execution_count": 179,
   "metadata": {},
   "outputs": [
    {
     "name": "stdout",
     "output_type": "stream",
     "text": [
      "100\n"
     ]
    }
   ],
   "source": [
    "class Calculator:\n",
    "    def __init__(self):\n",
    "        self.value = 0\n",
    "    def add(self, val):\n",
    "        self.value += val # 1. 본 클래스 상속을 이용해야 함.\n",
    "\n",
    "class MaxLimitCalculator(Calculator):\n",
    "    def add(self, val):   # 메서드 오버라이딩 (를 생각한나 기특해.)\n",
    "        self.value += val\n",
    "        if self.value >= 100:\n",
    "            self.value = 100\n",
    "\n",
    "cal = MaxLimitCalculator()\n",
    "cal.add(50) # print값은 none이다.\n",
    "cal.add(60) # print값은 none이다.\n",
    "\n",
    "print(cal.value) # 이걸 빼먹었다. (최종 100이 나와야 함.)"
   ]
  },
  {
   "cell_type": "code",
   "execution_count": 144,
   "metadata": {},
   "outputs": [
    {
     "data": {
      "text/plain": [
       "False"
      ]
     },
     "execution_count": 144,
     "metadata": {},
     "output_type": "execute_result"
    }
   ],
   "source": [
    "all([1,2,0]) # 하나라도 거짓이 있으니까 거짓이다."
   ]
  },
  {
   "cell_type": "code",
   "execution_count": 145,
   "metadata": {},
   "outputs": [
    {
     "data": {
      "text/plain": [
       "True"
      ]
     },
     "execution_count": 145,
     "metadata": {},
     "output_type": "execute_result"
    }
   ],
   "source": [
    "chr(ord('a')) == 'a' # ord는 문자의 유니코드 숫자값 # chr은 유니코드 숫자값을 문자로 하니까 같은 값이고 참이다."
   ]
  },
  {
   "cell_type": "code",
   "execution_count": 148,
   "metadata": {},
   "outputs": [
    {
     "data": {
      "text/plain": [
       "[1, 3, 8]"
      ]
     },
     "execution_count": 148,
     "metadata": {},
     "output_type": "execute_result"
    }
   ],
   "source": [
    "a = [1, -2, 3, -5, 8, -3]\n",
    "def number(i):\n",
    "    return i >= 1\n",
    "\n",
    "list(filter(number, a))"
   ]
  },
  {
   "cell_type": "code",
   "execution_count": 149,
   "metadata": {},
   "outputs": [
    {
     "data": {
      "text/plain": [
       "[1, 3, 8]"
      ]
     },
     "execution_count": 149,
     "metadata": {},
     "output_type": "execute_result"
    }
   ],
   "source": [
    "def number(i):\n",
    "    return i >= 1\n",
    "\n",
    "list(filter(number, [1, -2, 3, -5, 8, -3]))"
   ]
  },
  {
   "cell_type": "code",
   "execution_count": 150,
   "metadata": {},
   "outputs": [
    {
     "data": {
      "text/plain": [
       "[3, 6, 9, 12]"
      ]
     },
     "execution_count": 150,
     "metadata": {},
     "output_type": "execute_result"
    }
   ],
   "source": [
    "def number(i):\n",
    "    return i * 3\n",
    "\n",
    "list(map(number, [1,2,3,4]))"
   ]
  },
  {
   "cell_type": "code",
   "execution_count": 169,
   "metadata": {},
   "outputs": [
    {
     "data": {
      "text/plain": [
       "-1"
      ]
     },
     "execution_count": 169,
     "metadata": {},
     "output_type": "execute_result"
    }
   ],
   "source": [
    "a = [-8, 2, 7, 5, -3, 5, 0, 1] # sum은 iterable(for문에서쓸수있는것) 입력 데이터의 합을 리턴하는 함수라고\n",
    "\n",
    "max(a)+min(a) # 각 하나의 값이라 iterable(for문에서 쓸 수 있는 것) 자료형이 아니다."
   ]
  },
  {
   "cell_type": "code",
   "execution_count": 168,
   "metadata": {},
   "outputs": [
    {
     "data": {
      "text/plain": [
       "5.6667"
      ]
     },
     "execution_count": 168,
     "metadata": {},
     "output_type": "execute_result"
    }
   ],
   "source": [
    "round(17/3, 4)"
   ]
  },
  {
   "cell_type": "code",
   "execution_count": null,
   "metadata": {},
   "outputs": [],
   "source": [
    "디렉터리 이동하고 파일 목록 출력하기 이후 모름 pass"
   ]
  }
 ],
 "metadata": {
  "kernelspec": {
   "display_name": "Python 3",
   "language": "python",
   "name": "python3"
  },
  "language_info": {
   "codemirror_mode": {
    "name": "ipython",
    "version": 3
   },
   "file_extension": ".py",
   "mimetype": "text/x-python",
   "name": "python",
   "nbconvert_exporter": "python",
   "pygments_lexer": "ipython3",
   "version": "3.11.2"
  }
 },
 "nbformat": 4,
 "nbformat_minor": 2
}
