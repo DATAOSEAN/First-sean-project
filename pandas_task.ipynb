{
 "cells": [
  {
   "cell_type": "code",
   "execution_count": 1,
   "id": "0ef04f8c",
   "metadata": {},
   "outputs": [
    {
     "ename": "ModuleNotFoundError",
     "evalue": "No module named 'statsmodels'",
     "output_type": "error",
     "traceback": [
      "\u001b[1;31m---------------------------------------------------------------------------\u001b[0m",
      "\u001b[1;31mModuleNotFoundError\u001b[0m                       Traceback (most recent call last)",
      "Cell \u001b[1;32mIn[1], line 6\u001b[0m\n\u001b[0;32m      4\u001b[0m \u001b[38;5;28;01mimport\u001b[39;00m \u001b[38;5;21;01mmatplotlib\u001b[39;00m\u001b[38;5;21;01m.\u001b[39;00m\u001b[38;5;21;01mpyplot\u001b[39;00m \u001b[38;5;28;01mas\u001b[39;00m \u001b[38;5;21;01mplt\u001b[39;00m\n\u001b[0;32m      5\u001b[0m \u001b[38;5;28;01mimport\u001b[39;00m \u001b[38;5;21;01mpandas\u001b[39;00m \u001b[38;5;28;01mas\u001b[39;00m \u001b[38;5;21;01mpd\u001b[39;00m\n\u001b[1;32m----> 6\u001b[0m \u001b[38;5;28;01mimport\u001b[39;00m \u001b[38;5;21;01mstatsmodels\u001b[39;00m\u001b[38;5;21;01m.\u001b[39;00m\u001b[38;5;21;01mapi\u001b[39;00m \u001b[38;5;28;01mas\u001b[39;00m \u001b[38;5;21;01msm\u001b[39;00m\n\u001b[0;32m      7\u001b[0m \u001b[38;5;28;01mimport\u001b[39;00m \u001b[38;5;21;01mscipy\u001b[39;00m\u001b[38;5;21;01m.\u001b[39;00m\u001b[38;5;21;01mstats\u001b[39;00m \u001b[38;5;28;01mas\u001b[39;00m \u001b[38;5;21;01mstats\u001b[39;00m\n\u001b[0;32m      8\u001b[0m \u001b[38;5;28;01mfrom\u001b[39;00m \u001b[38;5;21;01mstatsmodels\u001b[39;00m\u001b[38;5;21;01m.\u001b[39;00m\u001b[38;5;21;01mstats\u001b[39;00m\u001b[38;5;21;01m.\u001b[39;00m\u001b[38;5;21;01mstattools\u001b[39;00m \u001b[38;5;28;01mimport\u001b[39;00m durbin_watson\n",
      "\u001b[1;31mModuleNotFoundError\u001b[0m: No module named 'statsmodels'"
     ]
    }
   ],
   "source": [
    "import time\n",
    "\n",
    "import numpy as np\n",
    "import matplotlib.pyplot as plt\n",
    "import pandas as pd\n",
    "import statsmodels.api as sm\n",
    "import scipy.stats as stats\n",
    "from statsmodels.stats.stattools import durbin_watson"
   ]
  },
  {
   "cell_type": "markdown",
   "id": "4d7d432e",
   "metadata": {},
   "source": [
    "### 과제 목표\n",
    "- 주어진 데이터는 1년 동안 Github public repository(개발자들의 코드 저장소)의 푸시 횟수입니다\n",
    "  - Github의 공개 저장소에 대한 기록은 모두에게 공개되어 있으며, Bigquery에 데이터베이스 형태로도 저장되어 있습니다\n",
    "- 아래 데이터는 2019년 2월 1일 ~ 2020년 1월 14일, 약 1년간 각 일자별 Push(코드 업데이트) 횟수입니다\n",
    "  - 각 개인 별 데이터는 취합되었기 때문에 확인이 어려우며, 전 세계의 데이터이기 때문에 하루에도 수십만회 Push가 이루어집니다\n",
    "- 본 과제의 목표는 **요일 별 Push 횟수에 유의미한 차이가 있는지 확인**하는 것입니다\n",
    "  - 이를 위한 **데이터의 기본적인 전처리**가 과제이며, 실제 통계 분석은 예시로 제공됩니다"
   ]
  },
  {
   "cell_type": "code",
   "execution_count": 11,
   "id": "cc373a48",
   "metadata": {},
   "outputs": [
    {
     "data": {
      "text/html": [
       "<div>\n",
       "<style scoped>\n",
       "    .dataframe tbody tr th:only-of-type {\n",
       "        vertical-align: middle;\n",
       "    }\n",
       "\n",
       "    .dataframe tbody tr th {\n",
       "        vertical-align: top;\n",
       "    }\n",
       "\n",
       "    .dataframe thead th {\n",
       "        text-align: right;\n",
       "    }\n",
       "</style>\n",
       "<table border=\"1\" class=\"dataframe\">\n",
       "  <thead>\n",
       "    <tr style=\"text-align: right;\">\n",
       "      <th></th>\n",
       "      <th>log_date</th>\n",
       "      <th>push_count</th>\n",
       "    </tr>\n",
       "  </thead>\n",
       "  <tbody>\n",
       "    <tr>\n",
       "      <th>0</th>\n",
       "      <td>19-02-01</td>\n",
       "      <td>736729</td>\n",
       "    </tr>\n",
       "    <tr>\n",
       "      <th>1</th>\n",
       "      <td>19-02-02</td>\n",
       "      <td>511067</td>\n",
       "    </tr>\n",
       "    <tr>\n",
       "      <th>2</th>\n",
       "      <td>19-02-03</td>\n",
       "      <td>528724</td>\n",
       "    </tr>\n",
       "    <tr>\n",
       "      <th>3</th>\n",
       "      <td>19-02-04</td>\n",
       "      <td>709256</td>\n",
       "    </tr>\n",
       "    <tr>\n",
       "      <th>4</th>\n",
       "      <td>19-02-05</td>\n",
       "      <td>740087</td>\n",
       "    </tr>\n",
       "  </tbody>\n",
       "</table>\n",
       "</div>"
      ],
      "text/plain": [
       "   log_date  push_count\n",
       "0  19-02-01      736729\n",
       "1  19-02-02      511067\n",
       "2  19-02-03      528724\n",
       "3  19-02-04      709256\n",
       "4  19-02-05      740087"
      ]
     },
     "metadata": {},
     "output_type": "display_data"
    }
   ],
   "source": [
    "## 데이터 입력\n",
    "log_date = ['19-02-01', '19-02-02', '19-02-03', '19-02-04', '19-02-05', '19-02-06', '19-02-07', '19-02-08', '19-02-09', '19-02-10', '19-02-11', '19-02-12', '19-02-13', '19-02-14', '19-02-15', '19-02-16', '19-02-17', '19-02-18', '19-02-19', '19-02-20', '19-02-21', '19-02-22', '19-02-23', '19-02-24', '19-02-25', '19-02-26', '19-02-27', '19-02-28', '19-03-01', '19-03-02', '19-03-03', '19-03-04', '19-03-05', '19-03-06', '19-03-07', '19-03-08', '19-03-09', '19-03-10', '19-03-11', '19-03-12', '19-03-13', '19-03-14', '19-03-15', '19-03-16', '19-03-17', '19-03-18', '19-03-19', '19-03-20', '19-03-21', '19-03-22', '19-03-23', '19-03-24', '19-03-25', '19-03-26', '19-03-27', '19-03-28', '19-03-29', '19-03-30', '19-03-31', '19-04-01', '19-04-02', '19-04-03', '19-04-04', '19-04-05', '19-04-06', '19-04-07', '19-04-08', '19-04-09', '19-04-10', '19-04-11', '19-04-12', '19-04-13', '19-04-14', '19-04-15', '19-04-16', '19-04-17', '19-04-18', '19-04-19', '19-04-20', '19-04-21', '19-04-22', '19-04-23', '19-04-24', '19-04-25', '19-04-26', '19-04-27', '19-04-28', '19-04-29', '19-04-30', '19-05-01', '19-05-02', '19-05-03', '19-05-04', '19-05-05', '19-05-06', '19-05-07', '19-05-08', '19-05-09', '19-05-10', '19-05-11', '19-05-12', '19-05-13', '19-05-14', '19-05-15', '19-05-16', '19-05-17', '19-05-18', '19-05-19', '19-05-20', '19-05-21', '19-05-22', '19-05-23', '19-05-24', '19-05-25', '19-05-26', '19-05-27', '19-05-28', '19-05-29', '19-05-30', '19-05-31', '19-06-01', '19-06-02', '19-06-03', '19-06-04', '19-06-05', '19-06-06', '19-06-07', '19-06-08', '19-06-09', '19-06-10', '19-06-11', '19-06-12', '19-06-13', '19-06-14', '19-06-15', '19-06-16', '19-06-17', '19-06-18', '19-06-19', '19-06-20', '19-06-21', '19-06-22', '19-06-23', '19-06-24', '19-06-25', '19-06-26', '19-06-27', '19-06-28', '19-06-29', '19-06-30', '19-07-01', '19-07-02', '19-07-03', '19-07-04', '19-07-05', '19-07-06', '19-07-07', '19-07-08', '19-07-09', '19-07-10', '19-07-11', '19-07-12', '19-07-13', '19-07-14', '19-07-15', '19-07-16', '19-07-17', '19-07-18', '19-07-19', '19-07-20', '19-07-21', '19-07-22', '19-07-23', '19-07-24', '19-07-25', '19-07-26', '19-07-27', '19-07-28', '19-07-29', '19-07-30', '19-07-31', '19-08-01', '19-08-02', '19-08-03', '19-08-04', '19-08-05', '19-08-06', '19-08-07', '19-08-08', '19-08-09', '19-08-10', '19-08-11', '19-08-12', '19-08-13', '19-08-14', '19-08-15', '19-08-16', '19-08-17', '19-08-18', '19-08-19', '19-08-20', '19-08-21', '19-08-22', '19-08-23', '19-08-24', '19-08-25', '19-08-26', '19-08-27', '19-08-28', '19-08-29', '19-08-30', '19-08-31', '19-09-01', '19-09-02', '19-09-03', '19-09-04', '19-09-05', '19-09-06', '19-09-07', '19-09-08', '19-09-09', '19-09-10', '19-09-11', '19-09-12', '19-09-13', '19-09-14', '19-09-15', '19-09-16', '19-09-17', '19-09-18', '19-09-19', '19-09-20', '19-09-21', '19-09-22', '19-09-23', '19-09-24', '19-09-25', '19-09-26', '19-09-27', '19-09-28', '19-09-29', '19-09-30', '19-10-01', '19-10-02', '19-10-03', '19-10-04', '19-10-05', '19-10-06', '19-10-07', '19-10-08', '19-10-09', '19-10-10', '19-10-11', '19-10-12', '19-10-13', '19-10-14', '19-10-15', '19-10-16', '19-10-17', '19-10-18', '19-10-19', '19-10-20', '19-10-21', '19-10-22', '19-10-23', '19-10-24', '19-10-25', '19-10-26', '19-10-27', '19-10-28', '19-10-29', '19-10-30', '19-10-31', '19-11-01', '19-11-02', '19-11-03', '19-11-04', '19-11-05', '19-11-06', '19-11-07', '19-11-08', '19-11-09', '19-11-10', '19-11-11', '19-11-12', '19-11-13', '19-11-14', '19-11-15', '19-11-16', '19-11-17', '19-11-18', '19-11-19', '19-11-20', '19-11-21', '19-11-22', '19-11-23', '19-11-24', '19-11-25', '19-11-26', '19-11-27', '19-11-28', '19-11-29', '19-11-30', '19-12-01', '19-12-02', '19-12-03', '19-12-04', '19-12-05', '19-12-06', '19-12-07', '19-12-08', '19-12-09', '19-12-10', '19-12-11', '19-12-12', '19-12-13', '19-12-14', '19-12-15', '19-12-16', '19-12-17', '19-12-18', '19-12-19', '19-12-20', '19-12-21', '19-12-22', '19-12-23', '19-12-24', '19-12-25', '19-12-26', '19-12-27', '19-12-28', '19-12-29', '19-12-30', '19-12-31', '20-01-01', '20-01-02', '20-01-03', '20-01-04', '20-01-05', '20-01-06', '20-01-07', '20-01-08', '20-01-09', '20-01-10', '20-01-11', '20-01-12', '20-01-13', '20-01-14']\n",
    "push_count = [736729, 511067, 528724, 709256, 740087, 828340, 855820, 876558, 711352, 726738, 933373, 959901, 964590, 910286, 848699, 628103, 660322, 895603, 953629, 949635, 955522, 917177, 659269, 701236, 975518, 1015931, 975017, 958305, 877648, 651934, 691516, 953642, 960052, 956920, 948127, 871289, 655612, 693005, 958071, 968218, 913213, 981776, 908980, 639149, 674015, 973138, 1015747, 1030862, 987880, 940083, 680284, 732752, 985210, 1015158, 988336, 960122, 923610, 657774, 698977, 942929, 1011466, 1024102, 1023094, 896419, 644560, 709638, 1019979, 944757, 1032029, 1016603, 944749, 691124, 719655, 960241, 1004906, 962822, 928066, 822771, 637555, 634379, 869363, 1007129, 997962, 987342, 920902, 655932, 720557, 950336, 986033, 846924, 932629, 869605, 655596, 731643, 945787, 973691, 845210, 956187, 919024, 646186, 666480, 944651, 998339, 989321, 979288, 904402, 635748, 670781, 937562, 986783, 969340, 960897, 879943, 615473, 635104, 863598, 970739, 924637, 942743, 908637, 641700, 664349, 941040, 980994, 969237, 968088, 855144, 607374, 643368, 921310, 987912, 985706, 981966, 876784, 598649, 624435, 918547, 947202, 938357, 912571, 861004, 601985, 644669, 914440, 956819, 945094, 928392, 837200, 579043, 592809, 881688, 920703, 910181, 819783, 788902, 598114, 613398, 915404, 960277, 938893, 964279, 890375, 603932, 630452, 925569, 959798, 958867, 940762, 899965, 615995, 638225, 922097, 969853, 933142, 898382, 852293, 600428, 663577, 969388, 1017800, 1009288, 987829, 915535, 643060, 659166, 954540, 982357, 978924, 955222, 893207, 640980, 643640, 918449, 958142, 971452, 881092, 885573, 651344, 716221, 980444, 986368, 1008115, 975142, 899282, 638546, 657839, 929137, 1010382, 1046002, 1020406, 921973, 650116, 683948, 893356, 970513, 1002060, 977504, 922181, 661898, 691059, 975349, 1011351, 991193, 286155, 660287, 668692, 697019, 997987, 1035935, 1030658, 1008518, 929352, 679834, 722942, 1012245, 981957, 1049101, 1034349, 965986, 706483, 745323, 994475, 959377, 960125, 963577, 927708, 698380, 730718, 981909, 1014043, 1009630, 959940, 958999, 738410, 731280, 1007130, 1045559, 1000966, 1008689, 961439, 724469, 764181, 1035013, 1085947, 1074606, 1008383, 959324, 700488, 728405, 1013830, 1003101, 925538, 954690, 909302, 685143, 718614, 1009602, 1027008, 1089694, 1075847, 1002722, 722901, 734530, 1026837, 1103263, 1085672, 1065596, 993674, 716144, 761068, 1037372, 1086351, 1067002, 1073715, 986711, 705113, 736264, 1072204, 1104737, 1055793, 954867, 859767, 691890, 765436, 1087212, 1135921, 1121567, 1109582, 1022900, 730604, 766976, 1084186, 1112616, 1101107, 1061678, 961088, 720602, 746224, 1029784, 1058494, 1029029, 999443, 913832, 640958, 648001, 823771, 720936, 597513, 717881, 731723, 620329, 627507, 792344, 693257, 570350, 854673, 879764, 703290, 727426, 945107, 1003707, 1028428, 1045746, 1000151, 729593, 748161, 1034195, 1067085]\n",
    "\n",
    "df = pd.DataFrame({\n",
    "    'log_date': log_date,\n",
    "    'push_count': push_count\n",
    "    })\n",
    "display(df.head())"
   ]
  },
  {
   "cell_type": "code",
   "execution_count": null,
   "id": "89023706",
   "metadata": {},
   "outputs": [],
   "source": [
    "[해설] dataframe 쉽게 말해 엑셀 형식으로 만들어줘서 다양하게 데이터프레임을 만들 수 있지만\n",
    "시리즈와 데이터프레임 등 중에 데이터프레임을 사용했다."
   ]
  },
  {
   "cell_type": "code",
   "execution_count": 12,
   "id": "166077a7",
   "metadata": {},
   "outputs": [
    {
     "data": {
      "text/html": [
       "<div>\n",
       "<style scoped>\n",
       "    .dataframe tbody tr th:only-of-type {\n",
       "        vertical-align: middle;\n",
       "    }\n",
       "\n",
       "    .dataframe tbody tr th {\n",
       "        vertical-align: top;\n",
       "    }\n",
       "\n",
       "    .dataframe thead th {\n",
       "        text-align: right;\n",
       "    }\n",
       "</style>\n",
       "<table border=\"1\" class=\"dataframe\">\n",
       "  <thead>\n",
       "    <tr style=\"text-align: right;\">\n",
       "      <th></th>\n",
       "      <th>log_date</th>\n",
       "      <th>push_count</th>\n",
       "    </tr>\n",
       "  </thead>\n",
       "  <tbody>\n",
       "    <tr>\n",
       "      <th>0</th>\n",
       "      <td>2019-02-01</td>\n",
       "      <td>736729</td>\n",
       "    </tr>\n",
       "    <tr>\n",
       "      <th>1</th>\n",
       "      <td>2019-02-02</td>\n",
       "      <td>511067</td>\n",
       "    </tr>\n",
       "    <tr>\n",
       "      <th>2</th>\n",
       "      <td>2019-02-03</td>\n",
       "      <td>528724</td>\n",
       "    </tr>\n",
       "    <tr>\n",
       "      <th>3</th>\n",
       "      <td>2019-02-04</td>\n",
       "      <td>709256</td>\n",
       "    </tr>\n",
       "    <tr>\n",
       "      <th>4</th>\n",
       "      <td>2019-02-05</td>\n",
       "      <td>740087</td>\n",
       "    </tr>\n",
       "    <tr>\n",
       "      <th>...</th>\n",
       "      <td>...</td>\n",
       "      <td>...</td>\n",
       "    </tr>\n",
       "    <tr>\n",
       "      <th>343</th>\n",
       "      <td>2020-01-10</td>\n",
       "      <td>1000151</td>\n",
       "    </tr>\n",
       "    <tr>\n",
       "      <th>344</th>\n",
       "      <td>2020-01-11</td>\n",
       "      <td>729593</td>\n",
       "    </tr>\n",
       "    <tr>\n",
       "      <th>345</th>\n",
       "      <td>2020-01-12</td>\n",
       "      <td>748161</td>\n",
       "    </tr>\n",
       "    <tr>\n",
       "      <th>346</th>\n",
       "      <td>2020-01-13</td>\n",
       "      <td>1034195</td>\n",
       "    </tr>\n",
       "    <tr>\n",
       "      <th>347</th>\n",
       "      <td>2020-01-14</td>\n",
       "      <td>1067085</td>\n",
       "    </tr>\n",
       "  </tbody>\n",
       "</table>\n",
       "<p>348 rows × 2 columns</p>\n",
       "</div>"
      ],
      "text/plain": [
       "      log_date  push_count\n",
       "0   2019-02-01      736729\n",
       "1   2019-02-02      511067\n",
       "2   2019-02-03      528724\n",
       "3   2019-02-04      709256\n",
       "4   2019-02-05      740087\n",
       "..         ...         ...\n",
       "343 2020-01-10     1000151\n",
       "344 2020-01-11      729593\n",
       "345 2020-01-12      748161\n",
       "346 2020-01-13     1034195\n",
       "347 2020-01-14     1067085\n",
       "\n",
       "[348 rows x 2 columns]"
      ]
     },
     "execution_count": 12,
     "metadata": {},
     "output_type": "execute_result"
    }
   ],
   "source": [
    "df['log_date'] = pd.to_datetime(df['log_date'], format=\"%y-%m-%d\")\n",
    "df # df.log_date 이렇게 컬럼 불러오는 것은 야매 방법이다."
   ]
  },
  {
   "cell_type": "code",
   "execution_count": 13,
   "id": "7943c419",
   "metadata": {},
   "outputs": [
    {
     "data": {
      "text/html": [
       "<div>\n",
       "<style scoped>\n",
       "    .dataframe tbody tr th:only-of-type {\n",
       "        vertical-align: middle;\n",
       "    }\n",
       "\n",
       "    .dataframe tbody tr th {\n",
       "        vertical-align: top;\n",
       "    }\n",
       "\n",
       "    .dataframe thead th {\n",
       "        text-align: right;\n",
       "    }\n",
       "</style>\n",
       "<table border=\"1\" class=\"dataframe\">\n",
       "  <thead>\n",
       "    <tr style=\"text-align: right;\">\n",
       "      <th></th>\n",
       "      <th>log_date</th>\n",
       "      <th>push_count</th>\n",
       "      <th>day_of_week</th>\n",
       "    </tr>\n",
       "  </thead>\n",
       "  <tbody>\n",
       "    <tr>\n",
       "      <th>0</th>\n",
       "      <td>2019-02-01</td>\n",
       "      <td>736729</td>\n",
       "      <td>4</td>\n",
       "    </tr>\n",
       "    <tr>\n",
       "      <th>1</th>\n",
       "      <td>2019-02-02</td>\n",
       "      <td>511067</td>\n",
       "      <td>5</td>\n",
       "    </tr>\n",
       "    <tr>\n",
       "      <th>2</th>\n",
       "      <td>2019-02-03</td>\n",
       "      <td>528724</td>\n",
       "      <td>6</td>\n",
       "    </tr>\n",
       "    <tr>\n",
       "      <th>3</th>\n",
       "      <td>2019-02-04</td>\n",
       "      <td>709256</td>\n",
       "      <td>0</td>\n",
       "    </tr>\n",
       "    <tr>\n",
       "      <th>4</th>\n",
       "      <td>2019-02-05</td>\n",
       "      <td>740087</td>\n",
       "      <td>1</td>\n",
       "    </tr>\n",
       "    <tr>\n",
       "      <th>...</th>\n",
       "      <td>...</td>\n",
       "      <td>...</td>\n",
       "      <td>...</td>\n",
       "    </tr>\n",
       "    <tr>\n",
       "      <th>343</th>\n",
       "      <td>2020-01-10</td>\n",
       "      <td>1000151</td>\n",
       "      <td>4</td>\n",
       "    </tr>\n",
       "    <tr>\n",
       "      <th>344</th>\n",
       "      <td>2020-01-11</td>\n",
       "      <td>729593</td>\n",
       "      <td>5</td>\n",
       "    </tr>\n",
       "    <tr>\n",
       "      <th>345</th>\n",
       "      <td>2020-01-12</td>\n",
       "      <td>748161</td>\n",
       "      <td>6</td>\n",
       "    </tr>\n",
       "    <tr>\n",
       "      <th>346</th>\n",
       "      <td>2020-01-13</td>\n",
       "      <td>1034195</td>\n",
       "      <td>0</td>\n",
       "    </tr>\n",
       "    <tr>\n",
       "      <th>347</th>\n",
       "      <td>2020-01-14</td>\n",
       "      <td>1067085</td>\n",
       "      <td>1</td>\n",
       "    </tr>\n",
       "  </tbody>\n",
       "</table>\n",
       "<p>348 rows × 3 columns</p>\n",
       "</div>"
      ],
      "text/plain": [
       "      log_date  push_count  day_of_week\n",
       "0   2019-02-01      736729            4\n",
       "1   2019-02-02      511067            5\n",
       "2   2019-02-03      528724            6\n",
       "3   2019-02-04      709256            0\n",
       "4   2019-02-05      740087            1\n",
       "..         ...         ...          ...\n",
       "343 2020-01-10     1000151            4\n",
       "344 2020-01-11      729593            5\n",
       "345 2020-01-12      748161            6\n",
       "346 2020-01-13     1034195            0\n",
       "347 2020-01-14     1067085            1\n",
       "\n",
       "[348 rows x 3 columns]"
      ]
     },
     "execution_count": 13,
     "metadata": {},
     "output_type": "execute_result"
    }
   ],
   "source": [
    "df = df.assign(day_of_week = df.log_date.dt.dayofweek)\n",
    "df"
   ]
  },
  {
   "cell_type": "code",
   "execution_count": null,
   "id": "72cc6b48",
   "metadata": {},
   "outputs": [],
   "source": [
    "groupby : dayofweek weekday랑 같다."
   ]
  },
  {
   "cell_type": "code",
   "execution_count": null,
   "id": "2fb045d9",
   "metadata": {},
   "outputs": [],
   "source": [
    "바그래프 : "
   ]
  },
  {
   "cell_type": "code",
   "execution_count": null,
   "id": "e1dfe219",
   "metadata": {},
   "outputs": [],
   "source": [
    "데이터캠프라고 이런류의 과제를 많이 풀어볼 수 있는 곳, 유료이다.\n",
    "통계학 과제도 되게 좋다. 8년 전에 학습하셨던 공간.\n",
    "프로그래머스 파이썬도 풀다보면 못푸는 것은 없다고 생각한다.\n",
    "numpy 100제도 좋다."
   ]
  },
  {
   "cell_type": "code",
   "execution_count": null,
   "id": "3e79425c",
   "metadata": {},
   "outputs": [],
   "source": [
    "복습 시작"
   ]
  },
  {
   "cell_type": "code",
   "execution_count": 23,
   "metadata": {},
   "outputs": [
    {
     "data": {
      "image/png": "[encoded data removed]",
      "text/plain": [
       "<Figure size 640x480 with 1 Axes>"
      ]
     },
     "metadata": {},
     "output_type": "display_data"
    }
   ],
   "source": [
    "df['log_date'] = pd.to_datetime(df['log_date']) # 복습 중\n",
    "\n",
    "df = df.assign(day_of_week = df['log_date'].dt.dayofweek)\n",
    "\n",
    "push_count_by_dow = df[['day_of_week', 'push_count']].groupby('day_of_week').agg(['mean','median'])\n",
    "push_count_by_dow.columns = ['mean', 'median'] # 컬럼 자꾸 못찾아서 추가해 줌. 나만 안돼?\n",
    "push_count_by_dow = push_count_by_dow.sort_index() # 변수에 넣는 거 잊지 말기\n",
    "\n",
    "# 날짜 데이터로 바꾸기 - 요일 컬럼 추가하기 - 평균과 중앙값 도출 - 정렬하기 (복습)\n",
    "# df['log_date'] = pd.to_datetime(df['log_date'])\n",
    "# df = df.assign(day_of_week = df['log_date'].dt.dayofweek)\n",
    "# push_count_by_dow = df[['day_of_week', 'push_count']].groupby('day_of_week').agg(['mean','median'])\n",
    "# push_count_by_dow.cloums = ['mean', 'median']\n",
    "# push_count_by_dow = push_count_by_dow.sort_index()\n",
    "\n",
    "# 이제 시각화만 남았다.\n",
    "# plt.bar({x:'day_of_week', y:'mean'}) 이렇게 경우 없지 쓰지 말고 다시 써\n",
    "plt.bar(push_count_by_dow.index, push_count_by_dow['mean']) # 인덱스를 넣어주는 센스\n",
    "plt.xlabel('day_of_week')\n",
    "plt.ylabel('push_count')\n",
    "plt.title('push_count_by_dow')\n",
    "plt.legend(['mean'])\n",
    "plt.show()"
   ]
  },
  {
   "cell_type": "code",
   "execution_count": null,
   "id": "d8826308",
   "metadata": {},
   "outputs": [],
   "source": [
    "과제 시작"
   ]
  },
  {
   "cell_type": "markdown",
   "id": "8ba6dd79",
   "metadata": {},
   "source": [
    "**Question 1: 날짜 전처리**"
   ]
  },
  {
   "cell_type": "code",
   "execution_count": 22,
   "id": "a4aa7e3f",
   "metadata": {},
   "outputs": [
    {
     "data": {
      "text/html": [
       "<div>\n",
       "<style scoped>\n",
       "    .dataframe tbody tr th:only-of-type {\n",
       "        vertical-align: middle;\n",
       "    }\n",
       "\n",
       "    .dataframe tbody tr th {\n",
       "        vertical-align: top;\n",
       "    }\n",
       "\n",
       "    .dataframe thead th {\n",
       "        text-align: right;\n",
       "    }\n",
       "</style>\n",
       "<table border=\"1\" class=\"dataframe\">\n",
       "  <thead>\n",
       "    <tr style=\"text-align: right;\">\n",
       "      <th></th>\n",
       "      <th>log_date</th>\n",
       "      <th>push_count</th>\n",
       "      <th>day_of_week</th>\n",
       "    </tr>\n",
       "  </thead>\n",
       "  <tbody>\n",
       "    <tr>\n",
       "      <th>0</th>\n",
       "      <td>2001-02-19</td>\n",
       "      <td>736729</td>\n",
       "      <td>0</td>\n",
       "    </tr>\n",
       "    <tr>\n",
       "      <th>1</th>\n",
       "      <td>2002-02-19</td>\n",
       "      <td>511067</td>\n",
       "      <td>1</td>\n",
       "    </tr>\n",
       "    <tr>\n",
       "      <th>2</th>\n",
       "      <td>2003-02-19</td>\n",
       "      <td>528724</td>\n",
       "      <td>2</td>\n",
       "    </tr>\n",
       "    <tr>\n",
       "      <th>3</th>\n",
       "      <td>2004-02-19</td>\n",
       "      <td>709256</td>\n",
       "      <td>3</td>\n",
       "    </tr>\n",
       "    <tr>\n",
       "      <th>4</th>\n",
       "      <td>2005-02-19</td>\n",
       "      <td>740087</td>\n",
       "      <td>5</td>\n",
       "    </tr>\n",
       "    <tr>\n",
       "      <th>...</th>\n",
       "      <td>...</td>\n",
       "      <td>...</td>\n",
       "      <td>...</td>\n",
       "    </tr>\n",
       "    <tr>\n",
       "      <th>343</th>\n",
       "      <td>2010-01-20</td>\n",
       "      <td>1000151</td>\n",
       "      <td>2</td>\n",
       "    </tr>\n",
       "    <tr>\n",
       "      <th>344</th>\n",
       "      <td>2011-01-20</td>\n",
       "      <td>729593</td>\n",
       "      <td>3</td>\n",
       "    </tr>\n",
       "    <tr>\n",
       "      <th>345</th>\n",
       "      <td>2012-01-20</td>\n",
       "      <td>748161</td>\n",
       "      <td>4</td>\n",
       "    </tr>\n",
       "    <tr>\n",
       "      <th>346</th>\n",
       "      <td>2013-01-20</td>\n",
       "      <td>1034195</td>\n",
       "      <td>6</td>\n",
       "    </tr>\n",
       "    <tr>\n",
       "      <th>347</th>\n",
       "      <td>2014-01-20</td>\n",
       "      <td>1067085</td>\n",
       "      <td>0</td>\n",
       "    </tr>\n",
       "  </tbody>\n",
       "</table>\n",
       "<p>348 rows × 3 columns</p>\n",
       "</div>"
      ],
      "text/plain": [
       "      log_date  push_count  day_of_week\n",
       "0   2001-02-19      736729            0\n",
       "1   2002-02-19      511067            1\n",
       "2   2003-02-19      528724            2\n",
       "3   2004-02-19      709256            3\n",
       "4   2005-02-19      740087            5\n",
       "..         ...         ...          ...\n",
       "343 2010-01-20     1000151            2\n",
       "344 2011-01-20      729593            3\n",
       "345 2012-01-20      748161            4\n",
       "346 2013-01-20     1034195            6\n",
       "347 2014-01-20     1067085            0\n",
       "\n",
       "[348 rows x 3 columns]"
      ]
     },
     "execution_count": 22,
     "metadata": {},
     "output_type": "execute_result"
    }
   ],
   "source": [
    "## 날짜를 변환 -> 배운대로\n",
    "df['log_date'] = pd.to_datetime(df['log_date'])\n",
    "\n",
    "## 변환된 날짜 칼럼으로부터 요일dayofweek을 숫자로 추출 -> 배운대로\n",
    "df = df.assign(day_of_week = df['log_date'].dt.dayofweek)\n",
    "\n",
    "df"
   ]
  },
  {
   "cell_type": "markdown",
   "id": "902cd278",
   "metadata": {},
   "source": [
    "**Question 2: Groupby로 통계량 집계**"
   ]
  },
  {
   "cell_type": "code",
   "execution_count": 55,
   "id": "84b515e8",
   "metadata": {},
   "outputs": [
    {
     "data": {
      "text/html": [
       "<div>\n",
       "<style scoped>\n",
       "    .dataframe tbody tr th:only-of-type {\n",
       "        vertical-align: middle;\n",
       "    }\n",
       "\n",
       "    .dataframe tbody tr th {\n",
       "        vertical-align: top;\n",
       "    }\n",
       "\n",
       "    .dataframe thead th {\n",
       "        text-align: right;\n",
       "    }\n",
       "</style>\n",
       "<table border=\"1\" class=\"dataframe\">\n",
       "  <thead>\n",
       "    <tr style=\"text-align: right;\">\n",
       "      <th></th>\n",
       "      <th>mean</th>\n",
       "      <th>median</th>\n",
       "    </tr>\n",
       "    <tr>\n",
       "      <th>day_of_week</th>\n",
       "      <th></th>\n",
       "      <th></th>\n",
       "    </tr>\n",
       "  </thead>\n",
       "  <tbody>\n",
       "    <tr>\n",
       "      <th>0</th>\n",
       "      <td>885473.160000</td>\n",
       "      <td>917041.0</td>\n",
       "    </tr>\n",
       "    <tr>\n",
       "      <th>1</th>\n",
       "      <td>859840.980000</td>\n",
       "      <td>922139.0</td>\n",
       "    </tr>\n",
       "    <tr>\n",
       "      <th>2</th>\n",
       "      <td>847978.591837</td>\n",
       "      <td>914440.0</td>\n",
       "    </tr>\n",
       "    <tr>\n",
       "      <th>3</th>\n",
       "      <td>879341.760000</td>\n",
       "      <td>940901.0</td>\n",
       "    </tr>\n",
       "    <tr>\n",
       "      <th>4</th>\n",
       "      <td>872766.420000</td>\n",
       "      <td>945100.5</td>\n",
       "    </tr>\n",
       "    <tr>\n",
       "      <th>5</th>\n",
       "      <td>882816.142857</td>\n",
       "      <td>925538.0</td>\n",
       "    </tr>\n",
       "    <tr>\n",
       "      <th>6</th>\n",
       "      <td>879316.080000</td>\n",
       "      <td>944704.0</td>\n",
       "    </tr>\n",
       "  </tbody>\n",
       "</table>\n",
       "</div>"
      ],
      "text/plain": [
       "                      mean    median\n",
       "day_of_week                         \n",
       "0            885473.160000  917041.0\n",
       "1            859840.980000  922139.0\n",
       "2            847978.591837  914440.0\n",
       "3            879341.760000  940901.0\n",
       "4            872766.420000  945100.5\n",
       "5            882816.142857  925538.0\n",
       "6            879316.080000  944704.0"
      ]
     },
     "metadata": {},
     "output_type": "display_data"
    }
   ],
   "source": [
    "## 요일별 푸시 횟수의 평균과 중간값 추출\n",
    "\n",
    "## 1차 작성 코드 : 에러\n",
    "## push_count_by_dow = df[['day_of_week', 'push_count']].groupby('day_of_week').agg({'mean':'mean','median':'median'})\n",
    "## 2차 작성 코드 : 성공. 자꾸 컬럼을 못찾아서 컬럼을 따로 지정해줬다.\n",
    "## push_count_by_dow = df[['day_of_week', 'push_count']].groupby('day_of_week').agg(['mean','median'])\n",
    "## push_count_by_dow.columns = ['mean', 'median']\n",
    "\n",
    "## 구글링으로 찾은 코드 작성법 대괄호로 색인(검색 조건)을 만들었다. 이하는 같음.\n",
    "push_count_by_dow = df.groupby('day_of_week')['push_count'].agg(['mean', 'median'])\n",
    "push_count_by_dow.columns = ['mean', 'median']\n",
    "push_count_by_dow = push_count_by_dow.sort_index()\n",
    "\n",
    "display(push_count_by_dow)"
   ]
  },
  {
   "cell_type": "markdown",
   "id": "bf9c9b96",
   "metadata": {},
   "source": [
    "**Question 3: Bar chart 시각화**"
   ]
  },
  {
   "cell_type": "code",
   "execution_count": 73,
   "id": "7d7b5719",
   "metadata": {},
   "outputs": [
    {
     "data": {
      "image/png": "[encoded data removed]",
      "text/plain": [
       "<Figure size 640x480 with 1 Axes>"
      ]
     },
     "metadata": {},
     "output_type": "display_data"
    }
   ],
   "source": [
    "## 요일별 평균을 bar chart로 시각화\n",
    "## plt.bar(push_count_by_dow['day_of_week'], push_count_by_dow['mean'])\n",
    "\n",
    "plt.bar(push_count_by_dow.index, push_count_by_dow['mean'])\n",
    "plt.xlabel('day_of_week')\n",
    "plt.show()"
   ]
  },
  {
   "cell_type": "markdown",
   "id": "f85b2c62",
   "metadata": {},
   "source": [
    "**Question4(Optional): 아웃라이어 제거**"
   ]
  },
  {
   "cell_type": "code",
   "execution_count": 6,
   "id": "73c26706",
   "metadata": {},
   "outputs": [],
   "source": [
    "## 함수 기반으로 z score 기반의 이상치 탐지\n",
    "def z_score_outlier_remover(df:pd.DataFrame, threshold:float) -> pd.DataFrame:\n",
    "    \"\"\"\n",
    "    z-score가 Threshold가 넘는 값들을 이상치로 판단하고 제거.\n",
    "    단, 이상치가 제거될 때마다 평균과 분산이 바뀌므로 이상치가 존재하지 않을 때까지 무한 반복\n",
    "    \"\"\"\n",
    "    total_outlier_count = 0\n",
    "    \n",
    "    if threshold <= 0:\n",
    "        raise ValueError(\"Threshold must larger than zero\")\n",
    "    \n",
    "    \n",
    "    while True:\n",
    "        ## 평균과 표준 편차를 집계\n",
    "        m = ##\n",
    "        s = ##\n",
    "        \n",
    "        ## num_list의 각 요소가 이상치인지를 나타내는 Boolean series 생성\n",
    "        ser_outlier_bool = ##\n",
    "        \n",
    "        ## 이상치의 숫자를 집계\n",
    "        outlier_count = ##\n",
    "        \n",
    "        ## 이상치가 존재한다면 그 숫자를 세고, 제거\n",
    "        if outlier_count > 0:\n",
    "            total_outlier_count += outlier_count\n",
    "            df = ##\n",
    "        ## 이상치가 존재하지 않으면 \n",
    "        else:\n",
    "            ## 제거한 이상치가 1개 이상이라면 출력하고 종료\n",
    "            if total_outlier_count > 0:\n",
    "                print(f\"The number of outliers(z-score > {threshold}): {total_outlier_count}\")\n",
    "            break\n",
    "    return df"
   ]
  },
  {
   "cell_type": "markdown",
   "id": "b6d28bb2",
   "metadata": {},
   "source": [
    "*Question 4를 풀지 못했다면, 아래의 코드는 실행하지 마십시오(주석 처리)*"
   ]
  },
  {
   "cell_type": "code",
   "execution_count": 7,
   "id": "0be3d539",
   "metadata": {},
   "outputs": [
    {
     "name": "stdout",
     "output_type": "stream",
     "text": [
      "Day of week: 0: Started\n",
      "The number of outliers(z-score > 3): 1\n",
      "Day of week: 0: End\n",
      "\n",
      "Day of week: 1: Started\n",
      "The number of outliers(z-score > 3): 3\n",
      "Day of week: 1: End\n",
      "\n",
      "Day of week: 2: Started\n",
      "The number of outliers(z-score > 3): 2\n",
      "Day of week: 2: End\n",
      "\n",
      "Day of week: 3: Started\n",
      "The number of outliers(z-score > 3): 2\n",
      "Day of week: 3: End\n",
      "\n",
      "Day of week: 4: Started\n",
      "The number of outliers(z-score > 3): 1\n",
      "Day of week: 4: End\n",
      "\n",
      "Day of week: 5: Started\n",
      "The number of outliers(z-score > 3): 1\n",
      "Day of week: 5: End\n",
      "\n",
      "Day of week: 6: Started\n",
      "The number of outliers(z-score > 3): 1\n",
      "Day of week: 6: End\n",
      "\n",
      "Outlier removed: 348 -> 337(3.16%)\n"
     ]
    }
   ],
   "source": [
    "## 요일 별로 이상치를 제거\n",
    "threshold = 3\n",
    "\n",
    "n_before = len(df)\n",
    "df_outlier_removed_list = []\n",
    "for day_of_week, group in df.groupby(\"day_of_week\"):\n",
    "    \n",
    "    print(f\"Day of week: {day_of_week}: Started\")\n",
    "    group_outlier_removed = z_score_outlier_remover(group, threshold)\n",
    "    df_outlier_removed_list.append(group_outlier_removed)\n",
    "    print(f\"Day of week: {day_of_week}: End\\n\")\n",
    "\n",
    "## 원본 데이터 대체\n",
    "df = pd.concat(df_outlier_removed_list)\n",
    "n_after = len(df)\n",
    "outlier_ratio = (n_before - n_after) / n_before * 100\n",
    "\n",
    "print(f\"Outlier removed: {n_before} -> {n_after}({outlier_ratio:.2f}%)\")"
   ]
  },
  {
   "cell_type": "markdown",
   "id": "1152b923",
   "metadata": {},
   "source": [
    "### ANOVA"
   ]
  },
  {
   "cell_type": "code",
   "execution_count": 8,
   "id": "30db0e14",
   "metadata": {},
   "outputs": [
    {
     "name": "stdout",
     "output_type": "stream",
     "text": [
      "F statistics: 334.2059\n",
      "P-value: 0.0000\n"
     ]
    }
   ],
   "source": [
    "F, p_value = stats.f_oneway(*[group.push_count for dow, group in df.groupby('day_of_week')])\n",
    "print(f\"F statistics: {F:.4f}\")\n",
    "print(f\"P-value: {p_value:.4f}\")"
   ]
  },
  {
   "cell_type": "markdown",
   "id": "ee47798d",
   "metadata": {},
   "source": [
    "**Assumption test**"
   ]
  },
  {
   "cell_type": "code",
   "execution_count": 9,
   "id": "dfdd625f",
   "metadata": {},
   "outputs": [
    {
     "data": {
      "image/png": "[encoded data removed]",
      "text/plain": [
       "<Figure size 640x480 with 1 Axes>"
      ]
     },
     "metadata": {},
     "output_type": "display_data"
    },
    {
     "data": {
      "image/png": "[encoded data removed]",
      "text/plain": [
       "<Figure size 640x480 with 1 Axes>"
      ]
     },
     "metadata": {},
     "output_type": "display_data"
    },
    {
     "name": "stdout",
     "output_type": "stream",
     "text": [
      "Normaility test p-value: 0.0049\n",
      "Equal variance test p-value: 0.0222\n",
      "Independence test statistic: 0.3971\n"
     ]
    }
   ],
   "source": [
    "df['residual'] = df['push_count'] - df.groupby('day_of_week').push_count.transform('mean')\n",
    "df['std_resi'] = (df['residual'] - df['residual'].mean()) / df['residual'].std()\n",
    "\n",
    "## 날짜 순으로 정렬\n",
    "df = df.sort_values(\"log_date\")\n",
    "## 이동평균 생성\n",
    "df = df.assign(push_count_ma = df.push_count.rolling(28).mean())\n",
    "\n",
    "# MA plot\n",
    "plt.plot(df.log_date, df.push_count_ma)\n",
    "plt.xticks(rotation=20)\n",
    "plt.show()\n",
    "\n",
    "# QQ plot\n",
    "sm.qqplot(df['std_resi'], line='45')\n",
    "plt.xlabel(\"Theoretical Quantiles\")\n",
    "plt.ylabel(\"Standardized Residuals\")\n",
    "plt.show()\n",
    "\n",
    "# normality\n",
    "w, pvalue = stats.shapiro(df.residual)\n",
    "print(f\"Normaility test p-value: {pvalue:.4f}\")\n",
    "\n",
    "# equal variance\n",
    "w, pvalue = stats.bartlett(*[group.residual for dow, group in df.groupby('day_of_week')])\n",
    "print(f\"Equal variance test p-value: {pvalue:.4f}\")\n",
    "\n",
    "# independency\n",
    "d = durbin_watson(df.residual)\n",
    "print(f\"Independence test statistic: {d:.4f}\")"
   ]
  }
 ],
 "metadata": {
  "kernelspec": {
   "display_name": "Python 3 (ipykernel)",
   "language": "python",
   "name": "python3"
  },
  "language_info": {
   "codemirror_mode": {
    "name": "ipython",
    "version": 3
   },
   "file_extension": ".py",
   "mimetype": "text/x-python",
   "name": "python",
   "nbconvert_exporter": "python",
   "pygments_lexer": "ipython3",
   "version": "3.11.2"
  }
 },
 "nbformat": 4,
 "nbformat_minor": 5
}
